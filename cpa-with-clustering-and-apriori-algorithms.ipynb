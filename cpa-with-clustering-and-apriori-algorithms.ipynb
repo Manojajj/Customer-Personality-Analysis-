{
 "cells": [
  {
   "cell_type": "markdown",
   "id": "19f1019b",
   "metadata": {
    "papermill": {
     "duration": 0.008214,
     "end_time": "2024-07-07T16:34:51.622880",
     "exception": false,
     "start_time": "2024-07-07T16:34:51.614666",
     "status": "completed"
    },
    "tags": []
   },
   "source": [
    "# Importing Libraries and Loading the Dataset"
   ]
  },
  {
   "cell_type": "code",
   "execution_count": 1,
   "id": "307a88c8",
   "metadata": {
    "_cell_guid": "b1076dfc-b9ad-4769-8c92-a6c4dae69d19",
    "_uuid": "8f2839f25d086af736a60e9eeb907d3b93b6e0e5",
    "execution": {
     "iopub.execute_input": "2024-07-07T16:34:51.639511Z",
     "iopub.status.busy": "2024-07-07T16:34:51.639155Z",
     "iopub.status.idle": "2024-07-07T16:34:54.102871Z",
     "shell.execute_reply": "2024-07-07T16:34:54.101977Z"
    },
    "papermill": {
     "duration": 2.474557,
     "end_time": "2024-07-07T16:34:54.105093",
     "exception": false,
     "start_time": "2024-07-07T16:34:51.630536",
     "status": "completed"
    },
    "tags": []
   },
   "outputs": [
    {
     "data": {
      "text/html": [
       "<div>\n",
       "<style scoped>\n",
       "    .dataframe tbody tr th:only-of-type {\n",
       "        vertical-align: middle;\n",
       "    }\n",
       "\n",
       "    .dataframe tbody tr th {\n",
       "        vertical-align: top;\n",
       "    }\n",
       "\n",
       "    .dataframe thead th {\n",
       "        text-align: right;\n",
       "    }\n",
       "</style>\n",
       "<table border=\"1\" class=\"dataframe\">\n",
       "  <thead>\n",
       "    <tr style=\"text-align: right;\">\n",
       "      <th></th>\n",
       "      <th>ID</th>\n",
       "      <th>Year_Birth</th>\n",
       "      <th>Education</th>\n",
       "      <th>Marital_Status</th>\n",
       "      <th>Income</th>\n",
       "      <th>Kidhome</th>\n",
       "      <th>Teenhome</th>\n",
       "      <th>Dt_Customer</th>\n",
       "      <th>Recency</th>\n",
       "      <th>MntWines</th>\n",
       "      <th>...</th>\n",
       "      <th>NumWebVisitsMonth</th>\n",
       "      <th>AcceptedCmp3</th>\n",
       "      <th>AcceptedCmp4</th>\n",
       "      <th>AcceptedCmp5</th>\n",
       "      <th>AcceptedCmp1</th>\n",
       "      <th>AcceptedCmp2</th>\n",
       "      <th>Complain</th>\n",
       "      <th>Z_CostContact</th>\n",
       "      <th>Z_Revenue</th>\n",
       "      <th>Response</th>\n",
       "    </tr>\n",
       "  </thead>\n",
       "  <tbody>\n",
       "    <tr>\n",
       "      <th>0</th>\n",
       "      <td>5524</td>\n",
       "      <td>1957</td>\n",
       "      <td>Graduation</td>\n",
       "      <td>Single</td>\n",
       "      <td>58138.0</td>\n",
       "      <td>0</td>\n",
       "      <td>0</td>\n",
       "      <td>04-09-2012</td>\n",
       "      <td>58</td>\n",
       "      <td>635</td>\n",
       "      <td>...</td>\n",
       "      <td>7</td>\n",
       "      <td>0</td>\n",
       "      <td>0</td>\n",
       "      <td>0</td>\n",
       "      <td>0</td>\n",
       "      <td>0</td>\n",
       "      <td>0</td>\n",
       "      <td>3</td>\n",
       "      <td>11</td>\n",
       "      <td>1</td>\n",
       "    </tr>\n",
       "    <tr>\n",
       "      <th>1</th>\n",
       "      <td>2174</td>\n",
       "      <td>1954</td>\n",
       "      <td>Graduation</td>\n",
       "      <td>Single</td>\n",
       "      <td>46344.0</td>\n",
       "      <td>1</td>\n",
       "      <td>1</td>\n",
       "      <td>08-03-2014</td>\n",
       "      <td>38</td>\n",
       "      <td>11</td>\n",
       "      <td>...</td>\n",
       "      <td>5</td>\n",
       "      <td>0</td>\n",
       "      <td>0</td>\n",
       "      <td>0</td>\n",
       "      <td>0</td>\n",
       "      <td>0</td>\n",
       "      <td>0</td>\n",
       "      <td>3</td>\n",
       "      <td>11</td>\n",
       "      <td>0</td>\n",
       "    </tr>\n",
       "    <tr>\n",
       "      <th>2</th>\n",
       "      <td>4141</td>\n",
       "      <td>1965</td>\n",
       "      <td>Graduation</td>\n",
       "      <td>Together</td>\n",
       "      <td>71613.0</td>\n",
       "      <td>0</td>\n",
       "      <td>0</td>\n",
       "      <td>21-08-2013</td>\n",
       "      <td>26</td>\n",
       "      <td>426</td>\n",
       "      <td>...</td>\n",
       "      <td>4</td>\n",
       "      <td>0</td>\n",
       "      <td>0</td>\n",
       "      <td>0</td>\n",
       "      <td>0</td>\n",
       "      <td>0</td>\n",
       "      <td>0</td>\n",
       "      <td>3</td>\n",
       "      <td>11</td>\n",
       "      <td>0</td>\n",
       "    </tr>\n",
       "    <tr>\n",
       "      <th>3</th>\n",
       "      <td>6182</td>\n",
       "      <td>1984</td>\n",
       "      <td>Graduation</td>\n",
       "      <td>Together</td>\n",
       "      <td>26646.0</td>\n",
       "      <td>1</td>\n",
       "      <td>0</td>\n",
       "      <td>10-02-2014</td>\n",
       "      <td>26</td>\n",
       "      <td>11</td>\n",
       "      <td>...</td>\n",
       "      <td>6</td>\n",
       "      <td>0</td>\n",
       "      <td>0</td>\n",
       "      <td>0</td>\n",
       "      <td>0</td>\n",
       "      <td>0</td>\n",
       "      <td>0</td>\n",
       "      <td>3</td>\n",
       "      <td>11</td>\n",
       "      <td>0</td>\n",
       "    </tr>\n",
       "    <tr>\n",
       "      <th>4</th>\n",
       "      <td>5324</td>\n",
       "      <td>1981</td>\n",
       "      <td>PhD</td>\n",
       "      <td>Married</td>\n",
       "      <td>58293.0</td>\n",
       "      <td>1</td>\n",
       "      <td>0</td>\n",
       "      <td>19-01-2014</td>\n",
       "      <td>94</td>\n",
       "      <td>173</td>\n",
       "      <td>...</td>\n",
       "      <td>5</td>\n",
       "      <td>0</td>\n",
       "      <td>0</td>\n",
       "      <td>0</td>\n",
       "      <td>0</td>\n",
       "      <td>0</td>\n",
       "      <td>0</td>\n",
       "      <td>3</td>\n",
       "      <td>11</td>\n",
       "      <td>0</td>\n",
       "    </tr>\n",
       "  </tbody>\n",
       "</table>\n",
       "<p>5 rows × 29 columns</p>\n",
       "</div>"
      ],
      "text/plain": [
       "     ID  Year_Birth   Education Marital_Status   Income  Kidhome  Teenhome  \\\n",
       "0  5524        1957  Graduation         Single  58138.0        0         0   \n",
       "1  2174        1954  Graduation         Single  46344.0        1         1   \n",
       "2  4141        1965  Graduation       Together  71613.0        0         0   \n",
       "3  6182        1984  Graduation       Together  26646.0        1         0   \n",
       "4  5324        1981         PhD        Married  58293.0        1         0   \n",
       "\n",
       "  Dt_Customer  Recency  MntWines  ...  NumWebVisitsMonth  AcceptedCmp3  \\\n",
       "0  04-09-2012       58       635  ...                  7             0   \n",
       "1  08-03-2014       38        11  ...                  5             0   \n",
       "2  21-08-2013       26       426  ...                  4             0   \n",
       "3  10-02-2014       26        11  ...                  6             0   \n",
       "4  19-01-2014       94       173  ...                  5             0   \n",
       "\n",
       "   AcceptedCmp4  AcceptedCmp5  AcceptedCmp1  AcceptedCmp2  Complain  \\\n",
       "0             0             0             0             0         0   \n",
       "1             0             0             0             0         0   \n",
       "2             0             0             0             0         0   \n",
       "3             0             0             0             0         0   \n",
       "4             0             0             0             0         0   \n",
       "\n",
       "   Z_CostContact  Z_Revenue  Response  \n",
       "0              3         11         1  \n",
       "1              3         11         0  \n",
       "2              3         11         0  \n",
       "3              3         11         0  \n",
       "4              3         11         0  \n",
       "\n",
       "[5 rows x 29 columns]"
      ]
     },
     "execution_count": 1,
     "metadata": {},
     "output_type": "execute_result"
    }
   ],
   "source": [
    "import numpy as np\n",
    "import pandas as pd\n",
    "import datetime\n",
    "from datetime import date\n",
    "import matplotlib.pyplot as plt\n",
    "import seaborn as sns\n",
    "import plotly.graph_objects as go\n",
    "from sklearn.preprocessing import StandardScaler, normalize\n",
    "from sklearn.mixture import GaussianMixture\n",
    "from mlxtend.frequent_patterns import apriori, association_rules\n",
    "import warnings\n",
    "\n",
    "warnings.filterwarnings('ignore')\n",
    "\n",
    "data = pd.read_csv(r'/kaggle/input/customer-personality-analysis/marketing_campaign.csv', sep='\\t')\n",
    "data.head()"
   ]
  },
  {
   "cell_type": "markdown",
   "id": "c67026c7",
   "metadata": {
    "papermill": {
     "duration": 0.007311,
     "end_time": "2024-07-07T16:34:54.119960",
     "exception": false,
     "start_time": "2024-07-07T16:34:54.112649",
     "status": "completed"
    },
    "tags": []
   },
   "source": [
    "# EDA (Exploratory Data Analysis)"
   ]
  },
  {
   "cell_type": "code",
   "execution_count": 2,
   "id": "92bd7eb4",
   "metadata": {
    "execution": {
     "iopub.execute_input": "2024-07-07T16:34:54.136024Z",
     "iopub.status.busy": "2024-07-07T16:34:54.135740Z",
     "iopub.status.idle": "2024-07-07T16:34:54.208609Z",
     "shell.execute_reply": "2024-07-07T16:34:54.207587Z"
    },
    "papermill": {
     "duration": 0.083249,
     "end_time": "2024-07-07T16:34:54.210669",
     "exception": false,
     "start_time": "2024-07-07T16:34:54.127420",
     "status": "completed"
    },
    "tags": []
   },
   "outputs": [
    {
     "data": {
      "text/html": [
       "<div>\n",
       "<style scoped>\n",
       "    .dataframe tbody tr th:only-of-type {\n",
       "        vertical-align: middle;\n",
       "    }\n",
       "\n",
       "    .dataframe tbody tr th {\n",
       "        vertical-align: top;\n",
       "    }\n",
       "\n",
       "    .dataframe thead th {\n",
       "        text-align: right;\n",
       "    }\n",
       "</style>\n",
       "<table border=\"1\" class=\"dataframe\">\n",
       "  <thead>\n",
       "    <tr style=\"text-align: right;\">\n",
       "      <th></th>\n",
       "      <th>ID</th>\n",
       "      <th>Year_Birth</th>\n",
       "      <th>Income</th>\n",
       "      <th>Kidhome</th>\n",
       "      <th>Teenhome</th>\n",
       "      <th>Recency</th>\n",
       "      <th>MntWines</th>\n",
       "      <th>MntFruits</th>\n",
       "      <th>MntMeatProducts</th>\n",
       "      <th>MntFishProducts</th>\n",
       "      <th>...</th>\n",
       "      <th>NumWebVisitsMonth</th>\n",
       "      <th>AcceptedCmp3</th>\n",
       "      <th>AcceptedCmp4</th>\n",
       "      <th>AcceptedCmp5</th>\n",
       "      <th>AcceptedCmp1</th>\n",
       "      <th>AcceptedCmp2</th>\n",
       "      <th>Complain</th>\n",
       "      <th>Z_CostContact</th>\n",
       "      <th>Z_Revenue</th>\n",
       "      <th>Response</th>\n",
       "    </tr>\n",
       "  </thead>\n",
       "  <tbody>\n",
       "    <tr>\n",
       "      <th>count</th>\n",
       "      <td>2240.000000</td>\n",
       "      <td>2240.000000</td>\n",
       "      <td>2216.000000</td>\n",
       "      <td>2240.000000</td>\n",
       "      <td>2240.000000</td>\n",
       "      <td>2240.000000</td>\n",
       "      <td>2240.000000</td>\n",
       "      <td>2240.000000</td>\n",
       "      <td>2240.000000</td>\n",
       "      <td>2240.000000</td>\n",
       "      <td>...</td>\n",
       "      <td>2240.000000</td>\n",
       "      <td>2240.000000</td>\n",
       "      <td>2240.000000</td>\n",
       "      <td>2240.000000</td>\n",
       "      <td>2240.000000</td>\n",
       "      <td>2240.000000</td>\n",
       "      <td>2240.000000</td>\n",
       "      <td>2240.0</td>\n",
       "      <td>2240.0</td>\n",
       "      <td>2240.000000</td>\n",
       "    </tr>\n",
       "    <tr>\n",
       "      <th>mean</th>\n",
       "      <td>5592.159821</td>\n",
       "      <td>1968.805804</td>\n",
       "      <td>52247.251354</td>\n",
       "      <td>0.444196</td>\n",
       "      <td>0.506250</td>\n",
       "      <td>49.109375</td>\n",
       "      <td>303.935714</td>\n",
       "      <td>26.302232</td>\n",
       "      <td>166.950000</td>\n",
       "      <td>37.525446</td>\n",
       "      <td>...</td>\n",
       "      <td>5.316518</td>\n",
       "      <td>0.072768</td>\n",
       "      <td>0.074554</td>\n",
       "      <td>0.072768</td>\n",
       "      <td>0.064286</td>\n",
       "      <td>0.013393</td>\n",
       "      <td>0.009375</td>\n",
       "      <td>3.0</td>\n",
       "      <td>11.0</td>\n",
       "      <td>0.149107</td>\n",
       "    </tr>\n",
       "    <tr>\n",
       "      <th>std</th>\n",
       "      <td>3246.662198</td>\n",
       "      <td>11.984069</td>\n",
       "      <td>25173.076661</td>\n",
       "      <td>0.538398</td>\n",
       "      <td>0.544538</td>\n",
       "      <td>28.962453</td>\n",
       "      <td>336.597393</td>\n",
       "      <td>39.773434</td>\n",
       "      <td>225.715373</td>\n",
       "      <td>54.628979</td>\n",
       "      <td>...</td>\n",
       "      <td>2.426645</td>\n",
       "      <td>0.259813</td>\n",
       "      <td>0.262728</td>\n",
       "      <td>0.259813</td>\n",
       "      <td>0.245316</td>\n",
       "      <td>0.114976</td>\n",
       "      <td>0.096391</td>\n",
       "      <td>0.0</td>\n",
       "      <td>0.0</td>\n",
       "      <td>0.356274</td>\n",
       "    </tr>\n",
       "    <tr>\n",
       "      <th>min</th>\n",
       "      <td>0.000000</td>\n",
       "      <td>1893.000000</td>\n",
       "      <td>1730.000000</td>\n",
       "      <td>0.000000</td>\n",
       "      <td>0.000000</td>\n",
       "      <td>0.000000</td>\n",
       "      <td>0.000000</td>\n",
       "      <td>0.000000</td>\n",
       "      <td>0.000000</td>\n",
       "      <td>0.000000</td>\n",
       "      <td>...</td>\n",
       "      <td>0.000000</td>\n",
       "      <td>0.000000</td>\n",
       "      <td>0.000000</td>\n",
       "      <td>0.000000</td>\n",
       "      <td>0.000000</td>\n",
       "      <td>0.000000</td>\n",
       "      <td>0.000000</td>\n",
       "      <td>3.0</td>\n",
       "      <td>11.0</td>\n",
       "      <td>0.000000</td>\n",
       "    </tr>\n",
       "    <tr>\n",
       "      <th>25%</th>\n",
       "      <td>2828.250000</td>\n",
       "      <td>1959.000000</td>\n",
       "      <td>35303.000000</td>\n",
       "      <td>0.000000</td>\n",
       "      <td>0.000000</td>\n",
       "      <td>24.000000</td>\n",
       "      <td>23.750000</td>\n",
       "      <td>1.000000</td>\n",
       "      <td>16.000000</td>\n",
       "      <td>3.000000</td>\n",
       "      <td>...</td>\n",
       "      <td>3.000000</td>\n",
       "      <td>0.000000</td>\n",
       "      <td>0.000000</td>\n",
       "      <td>0.000000</td>\n",
       "      <td>0.000000</td>\n",
       "      <td>0.000000</td>\n",
       "      <td>0.000000</td>\n",
       "      <td>3.0</td>\n",
       "      <td>11.0</td>\n",
       "      <td>0.000000</td>\n",
       "    </tr>\n",
       "    <tr>\n",
       "      <th>50%</th>\n",
       "      <td>5458.500000</td>\n",
       "      <td>1970.000000</td>\n",
       "      <td>51381.500000</td>\n",
       "      <td>0.000000</td>\n",
       "      <td>0.000000</td>\n",
       "      <td>49.000000</td>\n",
       "      <td>173.500000</td>\n",
       "      <td>8.000000</td>\n",
       "      <td>67.000000</td>\n",
       "      <td>12.000000</td>\n",
       "      <td>...</td>\n",
       "      <td>6.000000</td>\n",
       "      <td>0.000000</td>\n",
       "      <td>0.000000</td>\n",
       "      <td>0.000000</td>\n",
       "      <td>0.000000</td>\n",
       "      <td>0.000000</td>\n",
       "      <td>0.000000</td>\n",
       "      <td>3.0</td>\n",
       "      <td>11.0</td>\n",
       "      <td>0.000000</td>\n",
       "    </tr>\n",
       "    <tr>\n",
       "      <th>75%</th>\n",
       "      <td>8427.750000</td>\n",
       "      <td>1977.000000</td>\n",
       "      <td>68522.000000</td>\n",
       "      <td>1.000000</td>\n",
       "      <td>1.000000</td>\n",
       "      <td>74.000000</td>\n",
       "      <td>504.250000</td>\n",
       "      <td>33.000000</td>\n",
       "      <td>232.000000</td>\n",
       "      <td>50.000000</td>\n",
       "      <td>...</td>\n",
       "      <td>7.000000</td>\n",
       "      <td>0.000000</td>\n",
       "      <td>0.000000</td>\n",
       "      <td>0.000000</td>\n",
       "      <td>0.000000</td>\n",
       "      <td>0.000000</td>\n",
       "      <td>0.000000</td>\n",
       "      <td>3.0</td>\n",
       "      <td>11.0</td>\n",
       "      <td>0.000000</td>\n",
       "    </tr>\n",
       "    <tr>\n",
       "      <th>max</th>\n",
       "      <td>11191.000000</td>\n",
       "      <td>1996.000000</td>\n",
       "      <td>666666.000000</td>\n",
       "      <td>2.000000</td>\n",
       "      <td>2.000000</td>\n",
       "      <td>99.000000</td>\n",
       "      <td>1493.000000</td>\n",
       "      <td>199.000000</td>\n",
       "      <td>1725.000000</td>\n",
       "      <td>259.000000</td>\n",
       "      <td>...</td>\n",
       "      <td>20.000000</td>\n",
       "      <td>1.000000</td>\n",
       "      <td>1.000000</td>\n",
       "      <td>1.000000</td>\n",
       "      <td>1.000000</td>\n",
       "      <td>1.000000</td>\n",
       "      <td>1.000000</td>\n",
       "      <td>3.0</td>\n",
       "      <td>11.0</td>\n",
       "      <td>1.000000</td>\n",
       "    </tr>\n",
       "  </tbody>\n",
       "</table>\n",
       "<p>8 rows × 26 columns</p>\n",
       "</div>"
      ],
      "text/plain": [
       "                 ID   Year_Birth         Income      Kidhome     Teenhome  \\\n",
       "count   2240.000000  2240.000000    2216.000000  2240.000000  2240.000000   \n",
       "mean    5592.159821  1968.805804   52247.251354     0.444196     0.506250   \n",
       "std     3246.662198    11.984069   25173.076661     0.538398     0.544538   \n",
       "min        0.000000  1893.000000    1730.000000     0.000000     0.000000   \n",
       "25%     2828.250000  1959.000000   35303.000000     0.000000     0.000000   \n",
       "50%     5458.500000  1970.000000   51381.500000     0.000000     0.000000   \n",
       "75%     8427.750000  1977.000000   68522.000000     1.000000     1.000000   \n",
       "max    11191.000000  1996.000000  666666.000000     2.000000     2.000000   \n",
       "\n",
       "           Recency     MntWines    MntFruits  MntMeatProducts  \\\n",
       "count  2240.000000  2240.000000  2240.000000      2240.000000   \n",
       "mean     49.109375   303.935714    26.302232       166.950000   \n",
       "std      28.962453   336.597393    39.773434       225.715373   \n",
       "min       0.000000     0.000000     0.000000         0.000000   \n",
       "25%      24.000000    23.750000     1.000000        16.000000   \n",
       "50%      49.000000   173.500000     8.000000        67.000000   \n",
       "75%      74.000000   504.250000    33.000000       232.000000   \n",
       "max      99.000000  1493.000000   199.000000      1725.000000   \n",
       "\n",
       "       MntFishProducts  ...  NumWebVisitsMonth  AcceptedCmp3  AcceptedCmp4  \\\n",
       "count      2240.000000  ...        2240.000000   2240.000000   2240.000000   \n",
       "mean         37.525446  ...           5.316518      0.072768      0.074554   \n",
       "std          54.628979  ...           2.426645      0.259813      0.262728   \n",
       "min           0.000000  ...           0.000000      0.000000      0.000000   \n",
       "25%           3.000000  ...           3.000000      0.000000      0.000000   \n",
       "50%          12.000000  ...           6.000000      0.000000      0.000000   \n",
       "75%          50.000000  ...           7.000000      0.000000      0.000000   \n",
       "max         259.000000  ...          20.000000      1.000000      1.000000   \n",
       "\n",
       "       AcceptedCmp5  AcceptedCmp1  AcceptedCmp2     Complain  Z_CostContact  \\\n",
       "count   2240.000000   2240.000000   2240.000000  2240.000000         2240.0   \n",
       "mean       0.072768      0.064286      0.013393     0.009375            3.0   \n",
       "std        0.259813      0.245316      0.114976     0.096391            0.0   \n",
       "min        0.000000      0.000000      0.000000     0.000000            3.0   \n",
       "25%        0.000000      0.000000      0.000000     0.000000            3.0   \n",
       "50%        0.000000      0.000000      0.000000     0.000000            3.0   \n",
       "75%        0.000000      0.000000      0.000000     0.000000            3.0   \n",
       "max        1.000000      1.000000      1.000000     1.000000            3.0   \n",
       "\n",
       "       Z_Revenue     Response  \n",
       "count     2240.0  2240.000000  \n",
       "mean        11.0     0.149107  \n",
       "std          0.0     0.356274  \n",
       "min         11.0     0.000000  \n",
       "25%         11.0     0.000000  \n",
       "50%         11.0     0.000000  \n",
       "75%         11.0     0.000000  \n",
       "max         11.0     1.000000  \n",
       "\n",
       "[8 rows x 26 columns]"
      ]
     },
     "execution_count": 2,
     "metadata": {},
     "output_type": "execute_result"
    }
   ],
   "source": [
    "# Summary statistics\n",
    "data.describe()"
   ]
  },
  {
   "cell_type": "code",
   "execution_count": 3,
   "id": "f6788677",
   "metadata": {
    "execution": {
     "iopub.execute_input": "2024-07-07T16:34:54.230082Z",
     "iopub.status.busy": "2024-07-07T16:34:54.229489Z",
     "iopub.status.idle": "2024-07-07T16:34:54.675115Z",
     "shell.execute_reply": "2024-07-07T16:34:54.674209Z"
    },
    "papermill": {
     "duration": 0.457175,
     "end_time": "2024-07-07T16:34:54.677399",
     "exception": false,
     "start_time": "2024-07-07T16:34:54.220224",
     "status": "completed"
    },
    "tags": []
   },
   "outputs": [
    {
     "data": {
      "image/png": "[encoded data removed]",
      "text/plain": [
       "<Figure size 1000x500 with 1 Axes>"
      ]
     },
     "metadata": {},
     "output_type": "display_data"
    }
   ],
   "source": [
    "# Age distribution\n",
    "plt.figure(figsize=(10, 5))\n",
    "sns.histplot(data['Year_Birth'], bins=30, kde=True)\n",
    "plt.title('Age Distribution')\n",
    "plt.xlabel('Year of Birth')\n",
    "plt.ylabel('Frequency')\n",
    "plt.show()"
   ]
  },
  {
   "cell_type": "code",
   "execution_count": 4,
   "id": "836bd133",
   "metadata": {
    "execution": {
     "iopub.execute_input": "2024-07-07T16:34:54.695575Z",
     "iopub.status.busy": "2024-07-07T16:34:54.695013Z",
     "iopub.status.idle": "2024-07-07T16:34:55.125981Z",
     "shell.execute_reply": "2024-07-07T16:34:55.125061Z"
    },
    "papermill": {
     "duration": 0.442572,
     "end_time": "2024-07-07T16:34:55.128326",
     "exception": false,
     "start_time": "2024-07-07T16:34:54.685754",
     "status": "completed"
    },
    "tags": []
   },
   "outputs": [
    {
     "data": {
      "image/png": "[encoded data removed]",
      "text/plain": [
       "<Figure size 1000x500 with 1 Axes>"
      ]
     },
     "metadata": {},
     "output_type": "display_data"
    }
   ],
   "source": [
    "# Income distribution\n",
    "plt.figure(figsize=(10, 5))\n",
    "sns.histplot(data['Income'].dropna(), bins=30, kde=True)\n",
    "plt.title('Income Distribution')\n",
    "plt.xlabel('Income')\n",
    "plt.ylabel('Frequency')\n",
    "plt.show()"
   ]
  },
  {
   "cell_type": "code",
   "execution_count": 5,
   "id": "58821aba",
   "metadata": {
    "execution": {
     "iopub.execute_input": "2024-07-07T16:34:55.147905Z",
     "iopub.status.busy": "2024-07-07T16:34:55.147604Z",
     "iopub.status.idle": "2024-07-07T16:34:55.539887Z",
     "shell.execute_reply": "2024-07-07T16:34:55.539001Z"
    },
    "papermill": {
     "duration": 0.404799,
     "end_time": "2024-07-07T16:34:55.542265",
     "exception": false,
     "start_time": "2024-07-07T16:34:55.137466",
     "status": "completed"
    },
    "tags": []
   },
   "outputs": [
    {
     "data": {
      "image/png": "[encoded data removed]",
      "text/plain": [
       "<Figure size 1000x500 with 1 Axes>"
      ]
     },
     "metadata": {},
     "output_type": "display_data"
    }
   ],
   "source": [
    "# Spending distribution\n",
    "spending_columns = ['MntWines', 'MntFruits', 'MntMeatProducts', 'MntFishProducts', 'MntSweetProducts', 'MntGoldProds']\n",
    "data['Spending'] = data[spending_columns].sum(axis=1)\n",
    "\n",
    "plt.figure(figsize=(10, 5))\n",
    "sns.histplot(data['Spending'], bins=30, kde=True)\n",
    "plt.title('Total Spending Distribution')\n",
    "plt.xlabel('Total Spending')\n",
    "plt.ylabel('Frequency')\n",
    "plt.show()"
   ]
  },
  {
   "cell_type": "markdown",
   "id": "a1158f0d",
   "metadata": {
    "papermill": {
     "duration": 0.010049,
     "end_time": "2024-07-07T16:34:55.562240",
     "exception": false,
     "start_time": "2024-07-07T16:34:55.552191",
     "status": "completed"
    },
    "tags": []
   },
   "source": [
    "# Data Preparation"
   ]
  },
  {
   "cell_type": "code",
   "execution_count": 6,
   "id": "468afb88",
   "metadata": {
    "execution": {
     "iopub.execute_input": "2024-07-07T16:34:55.582497Z",
     "iopub.status.busy": "2024-07-07T16:34:55.582197Z",
     "iopub.status.idle": "2024-07-07T16:34:55.588779Z",
     "shell.execute_reply": "2024-07-07T16:34:55.587891Z"
    },
    "papermill": {
     "duration": 0.018946,
     "end_time": "2024-07-07T16:34:55.590593",
     "exception": false,
     "start_time": "2024-07-07T16:34:55.571647",
     "status": "completed"
    },
    "tags": []
   },
   "outputs": [],
   "source": [
    "# Spending variable creation\n",
    "data['Age'] = 2014 - data['Year_Birth']\n",
    "data['Spending'] = data['MntWines'] + data['MntFruits'] + data['MntMeatProducts'] + data['MntFishProducts'] + data['MntSweetProducts'] + data['MntGoldProds']"
   ]
  },
  {
   "cell_type": "code",
   "execution_count": 7,
   "id": "849fa348",
   "metadata": {
    "execution": {
     "iopub.execute_input": "2024-07-07T16:34:55.610359Z",
     "iopub.status.busy": "2024-07-07T16:34:55.610046Z",
     "iopub.status.idle": "2024-07-07T16:34:55.631370Z",
     "shell.execute_reply": "2024-07-07T16:34:55.630393Z"
    },
    "papermill": {
     "duration": 0.033743,
     "end_time": "2024-07-07T16:34:55.633658",
     "exception": false,
     "start_time": "2024-07-07T16:34:55.599915",
     "status": "completed"
    },
    "tags": []
   },
   "outputs": [],
   "source": [
    "# Convert 'Dt_Customer' to datetime\n",
    "data['Dt_Customer'] = pd.to_datetime(data['Dt_Customer'], dayfirst=True, format='%d-%m-%Y')\n",
    "\n",
    "# Define the last date for Seniority calculation as a datetime object\n",
    "last_date = pd.to_datetime(date(2014, 10, 4))\n",
    "\n",
    "# Calculate Seniority in days\n",
    "data['Seniority'] = (last_date - data['Dt_Customer']).dt.days.astype(int)\n",
    "\n",
    "# Select only numerical columns for scaling\n",
    "numerical_cols = ['Income', 'Seniority', 'Spending']\n",
    "dataset_temp = data[numerical_cols]"
   ]
  },
  {
   "cell_type": "code",
   "execution_count": 8,
   "id": "a4547678",
   "metadata": {
    "execution": {
     "iopub.execute_input": "2024-07-07T16:34:55.653840Z",
     "iopub.status.busy": "2024-07-07T16:34:55.653577Z",
     "iopub.status.idle": "2024-07-07T16:34:55.658952Z",
     "shell.execute_reply": "2024-07-07T16:34:55.658191Z"
    },
    "papermill": {
     "duration": 0.017544,
     "end_time": "2024-07-07T16:34:55.660909",
     "exception": false,
     "start_time": "2024-07-07T16:34:55.643365",
     "status": "completed"
    },
    "tags": []
   },
   "outputs": [],
   "source": [
    "# Renaming columns for clarity\n",
    "data = data.rename(columns={\n",
    "    'NumWebPurchases': 'Web',\n",
    "    'NumCatalogPurchases': 'Catalog',\n",
    "    'NumStorePurchases': 'Store'\n",
    "})"
   ]
  },
  {
   "cell_type": "code",
   "execution_count": 9,
   "id": "59ec7e57",
   "metadata": {
    "execution": {
     "iopub.execute_input": "2024-07-07T16:34:55.681142Z",
     "iopub.status.busy": "2024-07-07T16:34:55.680886Z",
     "iopub.status.idle": "2024-07-07T16:34:55.691709Z",
     "shell.execute_reply": "2024-07-07T16:34:55.690456Z"
    },
    "papermill": {
     "duration": 0.024014,
     "end_time": "2024-07-07T16:34:55.694808",
     "exception": false,
     "start_time": "2024-07-07T16:34:55.670794",
     "status": "completed"
    },
    "tags": []
   },
   "outputs": [],
   "source": [
    "# Replacing values for clarity\n",
    "data['Marital_Status'] = data['Marital_Status'].replace({\n",
    "    'Divorced': 'Alone',\n",
    "    'Single': 'Alone',\n",
    "    'Married': 'In couple',\n",
    "    'Together': 'In couple',\n",
    "    'Absurd': 'Alone',\n",
    "    'Widow': 'Alone',\n",
    "    'YOLO': 'Alone'\n",
    "})\n",
    "data['Education'] = data['Education'].replace({\n",
    "    'Basic': 'Undergraduate',\n",
    "    '2n Cycle': 'Undergraduate',\n",
    "    'Graduation': 'Postgraduate',\n",
    "    'Master': 'Postgraduate',\n",
    "    'PhD': 'Postgraduate'\n",
    "})"
   ]
  },
  {
   "cell_type": "code",
   "execution_count": 10,
   "id": "471cf97d",
   "metadata": {
    "execution": {
     "iopub.execute_input": "2024-07-07T16:34:55.727379Z",
     "iopub.status.busy": "2024-07-07T16:34:55.726804Z",
     "iopub.status.idle": "2024-07-07T16:34:55.738122Z",
     "shell.execute_reply": "2024-07-07T16:34:55.736995Z"
    },
    "papermill": {
     "duration": 0.030015,
     "end_time": "2024-07-07T16:34:55.740676",
     "exception": false,
     "start_time": "2024-07-07T16:34:55.710661",
     "status": "completed"
    },
    "tags": []
   },
   "outputs": [],
   "source": [
    "# Adding child information\n",
    "data['Children'] = data['Kidhome'] + data['Teenhome']\n",
    "data['Has_child'] = np.where(data.Children > 0, 'Has child', 'No child')\n",
    "data['Children'].replace({3: '3 children', 2: '2 children', 1: '1 child', 0: 'No child'}, inplace=True)"
   ]
  },
  {
   "cell_type": "code",
   "execution_count": 11,
   "id": "ea4af65c",
   "metadata": {
    "execution": {
     "iopub.execute_input": "2024-07-07T16:34:55.768379Z",
     "iopub.status.busy": "2024-07-07T16:34:55.767951Z",
     "iopub.status.idle": "2024-07-07T16:34:55.773627Z",
     "shell.execute_reply": "2024-07-07T16:34:55.772836Z"
    },
    "papermill": {
     "duration": 0.021178,
     "end_time": "2024-07-07T16:34:55.775615",
     "exception": false,
     "start_time": "2024-07-07T16:34:55.754437",
     "status": "completed"
    },
    "tags": []
   },
   "outputs": [],
   "source": [
    "# Renaming product columns for clarity\n",
    "data = data.rename(columns={\n",
    "    'MntWines': 'Wines',\n",
    "    'MntFruits': 'Fruits',\n",
    "    'MntMeatProducts': 'Meat',\n",
    "    'MntFishProducts': 'Fish',\n",
    "    'MntSweetProducts': 'Sweets',\n",
    "    'MntGoldProds': 'Gold'\n",
    "})"
   ]
  },
  {
   "cell_type": "code",
   "execution_count": 12,
   "id": "d9f99094",
   "metadata": {
    "execution": {
     "iopub.execute_input": "2024-07-07T16:34:55.795492Z",
     "iopub.status.busy": "2024-07-07T16:34:55.795008Z",
     "iopub.status.idle": "2024-07-07T16:34:55.811517Z",
     "shell.execute_reply": "2024-07-07T16:34:55.810653Z"
    },
    "papermill": {
     "duration": 0.029079,
     "end_time": "2024-07-07T16:34:55.813912",
     "exception": false,
     "start_time": "2024-07-07T16:34:55.784833",
     "status": "completed"
    },
    "tags": []
   },
   "outputs": [
    {
     "data": {
      "text/html": [
       "<div>\n",
       "<style scoped>\n",
       "    .dataframe tbody tr th:only-of-type {\n",
       "        vertical-align: middle;\n",
       "    }\n",
       "\n",
       "    .dataframe tbody tr th {\n",
       "        vertical-align: top;\n",
       "    }\n",
       "\n",
       "    .dataframe thead th {\n",
       "        text-align: right;\n",
       "    }\n",
       "</style>\n",
       "<table border=\"1\" class=\"dataframe\">\n",
       "  <thead>\n",
       "    <tr style=\"text-align: right;\">\n",
       "      <th></th>\n",
       "      <th>Age</th>\n",
       "      <th>Education</th>\n",
       "      <th>Marital_Status</th>\n",
       "      <th>Income</th>\n",
       "      <th>Spending</th>\n",
       "      <th>Seniority</th>\n",
       "      <th>Has_child</th>\n",
       "      <th>Children</th>\n",
       "      <th>Wines</th>\n",
       "      <th>Fruits</th>\n",
       "      <th>Meat</th>\n",
       "      <th>Fish</th>\n",
       "      <th>Sweets</th>\n",
       "      <th>Gold</th>\n",
       "    </tr>\n",
       "  </thead>\n",
       "  <tbody>\n",
       "    <tr>\n",
       "      <th>0</th>\n",
       "      <td>57</td>\n",
       "      <td>Postgraduate</td>\n",
       "      <td>Alone</td>\n",
       "      <td>58138.0</td>\n",
       "      <td>1617</td>\n",
       "      <td>760</td>\n",
       "      <td>No child</td>\n",
       "      <td>No child</td>\n",
       "      <td>635</td>\n",
       "      <td>88</td>\n",
       "      <td>546</td>\n",
       "      <td>172</td>\n",
       "      <td>88</td>\n",
       "      <td>88</td>\n",
       "    </tr>\n",
       "    <tr>\n",
       "      <th>1</th>\n",
       "      <td>60</td>\n",
       "      <td>Postgraduate</td>\n",
       "      <td>Alone</td>\n",
       "      <td>46344.0</td>\n",
       "      <td>27</td>\n",
       "      <td>210</td>\n",
       "      <td>Has child</td>\n",
       "      <td>2 children</td>\n",
       "      <td>11</td>\n",
       "      <td>1</td>\n",
       "      <td>6</td>\n",
       "      <td>2</td>\n",
       "      <td>1</td>\n",
       "      <td>6</td>\n",
       "    </tr>\n",
       "    <tr>\n",
       "      <th>2</th>\n",
       "      <td>49</td>\n",
       "      <td>Postgraduate</td>\n",
       "      <td>In couple</td>\n",
       "      <td>71613.0</td>\n",
       "      <td>776</td>\n",
       "      <td>409</td>\n",
       "      <td>No child</td>\n",
       "      <td>No child</td>\n",
       "      <td>426</td>\n",
       "      <td>49</td>\n",
       "      <td>127</td>\n",
       "      <td>111</td>\n",
       "      <td>21</td>\n",
       "      <td>42</td>\n",
       "    </tr>\n",
       "    <tr>\n",
       "      <th>3</th>\n",
       "      <td>30</td>\n",
       "      <td>Postgraduate</td>\n",
       "      <td>In couple</td>\n",
       "      <td>26646.0</td>\n",
       "      <td>53</td>\n",
       "      <td>236</td>\n",
       "      <td>Has child</td>\n",
       "      <td>1 child</td>\n",
       "      <td>11</td>\n",
       "      <td>4</td>\n",
       "      <td>20</td>\n",
       "      <td>10</td>\n",
       "      <td>3</td>\n",
       "      <td>5</td>\n",
       "    </tr>\n",
       "    <tr>\n",
       "      <th>4</th>\n",
       "      <td>33</td>\n",
       "      <td>Postgraduate</td>\n",
       "      <td>In couple</td>\n",
       "      <td>58293.0</td>\n",
       "      <td>422</td>\n",
       "      <td>258</td>\n",
       "      <td>Has child</td>\n",
       "      <td>1 child</td>\n",
       "      <td>173</td>\n",
       "      <td>43</td>\n",
       "      <td>118</td>\n",
       "      <td>46</td>\n",
       "      <td>27</td>\n",
       "      <td>15</td>\n",
       "    </tr>\n",
       "  </tbody>\n",
       "</table>\n",
       "</div>"
      ],
      "text/plain": [
       "   Age     Education Marital_Status   Income  Spending  Seniority  Has_child  \\\n",
       "0   57  Postgraduate          Alone  58138.0      1617        760   No child   \n",
       "1   60  Postgraduate          Alone  46344.0        27        210  Has child   \n",
       "2   49  Postgraduate      In couple  71613.0       776        409   No child   \n",
       "3   30  Postgraduate      In couple  26646.0        53        236  Has child   \n",
       "4   33  Postgraduate      In couple  58293.0       422        258  Has child   \n",
       "\n",
       "     Children  Wines  Fruits  Meat  Fish  Sweets  Gold  \n",
       "0    No child    635      88   546   172      88    88  \n",
       "1  2 children     11       1     6     2       1     6  \n",
       "2    No child    426      49   127   111      21    42  \n",
       "3     1 child     11       4    20    10       3     5  \n",
       "4     1 child    173      43   118    46      27    15  "
      ]
     },
     "execution_count": 12,
     "metadata": {},
     "output_type": "execute_result"
    }
   ],
   "source": [
    "# Selecting relevant columns\n",
    "data = data[['Age', 'Education', 'Marital_Status', 'Income', 'Spending', 'Seniority', 'Has_child', 'Children', 'Wines', 'Fruits', 'Meat', 'Fish', 'Sweets', 'Gold']]\n",
    "data.head()"
   ]
  },
  {
   "cell_type": "markdown",
   "id": "279b3c25",
   "metadata": {
    "papermill": {
     "duration": 0.010238,
     "end_time": "2024-07-07T16:34:55.835330",
     "exception": false,
     "start_time": "2024-07-07T16:34:55.825092",
     "status": "completed"
    },
    "tags": []
   },
   "source": [
    "# Handling Missing Values and Outliers"
   ]
  },
  {
   "cell_type": "code",
   "execution_count": 13,
   "id": "f6ae1743",
   "metadata": {
    "execution": {
     "iopub.execute_input": "2024-07-07T16:34:55.861248Z",
     "iopub.status.busy": "2024-07-07T16:34:55.860477Z",
     "iopub.status.idle": "2024-07-07T16:34:55.872592Z",
     "shell.execute_reply": "2024-07-07T16:34:55.871350Z"
    },
    "papermill": {
     "duration": 0.02747,
     "end_time": "2024-07-07T16:34:55.875477",
     "exception": false,
     "start_time": "2024-07-07T16:34:55.848007",
     "status": "completed"
    },
    "tags": []
   },
   "outputs": [],
   "source": [
    "# Remove missing values\n",
    "data = data.dropna(subset=['Income'])\n",
    "# Remove outliers\n",
    "data = data[data['Income'] < 600000]"
   ]
  },
  {
   "cell_type": "markdown",
   "id": "003813d4",
   "metadata": {
    "papermill": {
     "duration": 0.017801,
     "end_time": "2024-07-07T16:34:55.908753",
     "exception": false,
     "start_time": "2024-07-07T16:34:55.890952",
     "status": "completed"
    },
    "tags": []
   },
   "source": [
    "# Clustering"
   ]
  },
  {
   "cell_type": "code",
   "execution_count": 14,
   "id": "cab87a46",
   "metadata": {
    "execution": {
     "iopub.execute_input": "2024-07-07T16:34:55.942606Z",
     "iopub.status.busy": "2024-07-07T16:34:55.941820Z",
     "iopub.status.idle": "2024-07-07T16:34:56.069767Z",
     "shell.execute_reply": "2024-07-07T16:34:56.068226Z"
    },
    "papermill": {
     "duration": 0.147028,
     "end_time": "2024-07-07T16:34:56.071909",
     "exception": false,
     "start_time": "2024-07-07T16:34:55.924881",
     "status": "completed"
    },
    "tags": []
   },
   "outputs": [
    {
     "data": {
      "text/html": [
       "<div>\n",
       "<style scoped>\n",
       "    .dataframe tbody tr th:only-of-type {\n",
       "        vertical-align: middle;\n",
       "    }\n",
       "\n",
       "    .dataframe tbody tr th {\n",
       "        vertical-align: top;\n",
       "    }\n",
       "\n",
       "    .dataframe thead th {\n",
       "        text-align: right;\n",
       "    }\n",
       "</style>\n",
       "<table border=\"1\" class=\"dataframe\">\n",
       "  <thead>\n",
       "    <tr style=\"text-align: right;\">\n",
       "      <th></th>\n",
       "      <th>Cluster</th>\n",
       "      <th>High potential</th>\n",
       "      <th>Leaky bucket</th>\n",
       "      <th>Need attention</th>\n",
       "      <th>Stars</th>\n",
       "    </tr>\n",
       "  </thead>\n",
       "  <tbody>\n",
       "    <tr>\n",
       "      <th rowspan=\"5\" valign=\"top\">Income</th>\n",
       "      <th>count</th>\n",
       "      <td>584.000000</td>\n",
       "      <td>641.000000</td>\n",
       "      <td>528.000000</td>\n",
       "      <td>462.000000</td>\n",
       "    </tr>\n",
       "    <tr>\n",
       "      <th>mean</th>\n",
       "      <td>34756.965753</td>\n",
       "      <td>37705.014041</td>\n",
       "      <td>69541.708333</td>\n",
       "      <td>73437.746753</td>\n",
       "    </tr>\n",
       "    <tr>\n",
       "      <th>std</th>\n",
       "      <td>12074.730012</td>\n",
       "      <td>12396.732962</td>\n",
       "      <td>12005.908830</td>\n",
       "      <td>13752.851295</td>\n",
       "    </tr>\n",
       "    <tr>\n",
       "      <th>min</th>\n",
       "      <td>2447.000000</td>\n",
       "      <td>1730.000000</td>\n",
       "      <td>44802.000000</td>\n",
       "      <td>49090.000000</td>\n",
       "    </tr>\n",
       "    <tr>\n",
       "      <th>25%</th>\n",
       "      <td>26489.250000</td>\n",
       "      <td>28839.000000</td>\n",
       "      <td>60880.250000</td>\n",
       "      <td>65298.250000</td>\n",
       "    </tr>\n",
       "  </tbody>\n",
       "</table>\n",
       "</div>"
      ],
      "text/plain": [
       "Cluster       High potential  Leaky bucket  Need attention         Stars\n",
       "Income count      584.000000    641.000000      528.000000    462.000000\n",
       "       mean     34756.965753  37705.014041    69541.708333  73437.746753\n",
       "       std      12074.730012  12396.732962    12005.908830  13752.851295\n",
       "       min       2447.000000   1730.000000    44802.000000  49090.000000\n",
       "       25%      26489.250000  28839.000000    60880.250000  65298.250000"
      ]
     },
     "execution_count": 14,
     "metadata": {},
     "output_type": "execute_result"
    }
   ],
   "source": [
    "# Normalize the data\n",
    "scaler = StandardScaler()\n",
    "dataset_temp = data[['Income', 'Seniority', 'Spending']]\n",
    "X_std = scaler.fit_transform(dataset_temp)\n",
    "X = normalize(X_std, norm='l2')\n",
    "\n",
    "# Apply Gaussian Mixture Model for clustering\n",
    "gmm = GaussianMixture(n_components=4, covariance_type='spherical', max_iter=2000, random_state=5).fit(X)\n",
    "labels = gmm.predict(X)\n",
    "dataset_temp['Cluster'] = labels\n",
    "dataset_temp = dataset_temp.replace({0: 'Stars', 1: 'Need attention', 2: 'High potential', 3: 'Leaky bucket'})\n",
    "data = data.merge(dataset_temp.Cluster, left_index=True, right_index=True)\n",
    "\n",
    "# Summarize clusters\n",
    "summary = data[['Income', 'Spending', 'Seniority', 'Cluster']]\n",
    "summary.set_index('Cluster', inplace=True)\n",
    "summary = summary.groupby('Cluster').describe().transpose()\n",
    "summary.head()"
   ]
  },
  {
   "cell_type": "markdown",
   "id": "d2b3d989",
   "metadata": {
    "papermill": {
     "duration": 0.009517,
     "end_time": "2024-07-07T16:34:56.092753",
     "exception": false,
     "start_time": "2024-07-07T16:34:56.083236",
     "status": "completed"
    },
    "tags": []
   },
   "source": [
    "# Visualizing Clusters"
   ]
  },
  {
   "cell_type": "code",
   "execution_count": 15,
   "id": "5e190928",
   "metadata": {
    "execution": {
     "iopub.execute_input": "2024-07-07T16:34:56.114455Z",
     "iopub.status.busy": "2024-07-07T16:34:56.114131Z",
     "iopub.status.idle": "2024-07-07T16:34:56.647470Z",
     "shell.execute_reply": "2024-07-07T16:34:56.646538Z"
    },
    "papermill": {
     "duration": 0.546496,
     "end_time": "2024-07-07T16:34:56.649527",
     "exception": false,
     "start_time": "2024-07-07T16:34:56.103031",
     "status": "completed"
    },
    "tags": []
   },
   "outputs": [
    {
     "data": {
      "text/html": [
       "        <script type=\"text/javascript\">\n",
       "        window.PlotlyConfig = {MathJaxConfig: 'local'};\n",
       "        if (window.MathJax && window.MathJax.Hub && window.MathJax.Hub.Config) {window.MathJax.Hub.Config({SVG: {font: \"STIX-Web\"}});}\n",
       "        if (typeof require !== 'undefined') {\n",
       "        require.undef(\"plotly\");\n",
       "        requirejs.config({\n",
       "            paths: {\n",
       "                'plotly': ['https://cdn.plot.ly/plotly-2.27.0.min']\n",
       "            }\n",
       "        });\n",
       "        require(['plotly'], function(Plotly) {\n",
       "            window._Plotly = Plotly;\n",
       "        });\n",
       "        }\n",
       "        </script>\n",
       "        "
      ]
     },
     "metadata": {},
     "output_type": "display_data"
    },
    {
     "data": {
      "text/html": [
       "<div>                            <div id=\"fbd4a77e-9267-44c9-aeb6-b7f0f77a143a\" class=\"plotly-graph-div\" style=\"height:800px; width:800px;\"></div>            <script type=\"text/javascript\">                require([\"plotly\"], function(Plotly) {                    window.PLOTLYENV=window.PLOTLYENV || {};                                    if (document.getElementById(\"fbd4a77e-9267-44c9-aeb6-b7f0f77a143a\")) {                    Plotly.newPlot(                        \"fbd4a77e-9267-44c9-aeb6-b7f0f77a143a\",                        [{\"marker\":{\"line\":{\"width\":1},\"size\":6},\"mode\":\"markers\",\"name\":\"Need attention\",\"x\":[58138.0,55635.0,82800.0,76995.0,58607.0,68657.0,48948.0,80011.0,72550.0,79143.0,66373.0,82384.0,70287.0,75777.0,66653.0,61823.0,67680.0,74854.0,66991.0,65031.0,60631.0,75251.0,75825.0,56046.0,85693.0,65846.0,52413.0,89058.0,68126.0,86037.0,56129.0,101970.0,71488.0,79607.0,61331.0,62981.0,92859.0,86111.0,59809.0,61010.0,69372.0,70356.0,74165.0,80427.0,83837.0,74068.0,66973.0,86718.0,102160.0,64497.0,70951.0,69508.0,63887.0,51537.0,79930.0,81975.0,62745.0,64961.0,61074.0,80134.0,75027.0,67546.0,65176.0,102692.0,75702.0,63342.0,69674.0,72940.0,69267.0,60714.0,69867.0,63841.0,75278.0,50898.0,82497.0,55951.0,68627.0,80950.0,70893.0,66503.0,64795.0,64325.0,62187.0,66334.0,62204.0,75693.0,83003.0,68655.0,55212.0,59292.0,71952.0,72099.0,60000.0,68462.0,78618.0,54803.0,79530.0,72025.0,52614.0,63810.0,63381.0,83664.0,75276.0,53858.0,66465.0,75072.0,91065.0,49505.0,82584.0,93027.0,61314.0,84865.0,67309.0,57959.0,56796.0,65991.0,89572.0,66664.0,75261.0,49269.0,61456.0,56937.0,62503.0,62010.0,83151.0,78825.0,60093.0,78952.0,76005.0,58308.0,59432.0,78642.0,65275.0,64355.0,53653.0,61250.0,60152.0,81169.0,70503.0,61839.0,54058.0,54880.0,79908.0,87771.0,81741.0,66565.0,61996.0,79800.0,92163.0,62807.0,61467.0,48240.0,72635.0,84196.0,70971.0,83917.0,84574.0,63120.0,63381.0,62859.0,77632.0,105471.0,67445.0,56253.0,66731.0,52614.0,81300.0,68743.0,66476.0,86857.0,160803.0,71952.0,55250.0,58398.0,76618.0,87305.0,58710.0,74806.0,59111.0,72190.0,89891.0,66373.0,67432.0,62882.0,64108.0,83844.0,80952.0,63855.0,62220.0,74985.0,67430.0,62058.0,62847.0,82017.0,60161.0,73926.0,48192.0,59666.0,72504.0,52750.0,76412.0,87771.0,78353.0,93404.0,80995.0,56575.0,71391.0,81702.0,61618.0,55284.0,82347.0,60474.0,55357.0,85710.0,86857.0,82072.0,48948.0,55260.0,81320.0,78420.0,52278.0,95529.0,62820.0,74637.0,72354.0,64950.0,67536.0,64831.0,82025.0,94384.0,51563.0,67893.0,59754.0,53700.0,70647.0,80573.0,82576.0,79689.0,78028.0,56337.0,65569.0,83844.0,77568.0,64504.0,56320.0,68316.0,74538.0,91700.0,69098.0,70596.0,72228.0,67605.0,62845.0,64176.0,70713.0,59925.0,88347.0,87171.0,79456.0,75345.0,54233.0,84460.0,80910.0,56775.0,76773.0,81698.0,86358.0,67381.0,85606.0,85696.0,56129.0,54450.0,57513.0,68142.0,83145.0,56715.0,57304.0,54450.0,59594.0,80685.0,62710.0,77142.0,74214.0,54959.0,78579.0,67369.0,63841.0,70091.0,59184.0,58113.0,50965.0,65748.0,74918.0,77297.0,75032.0,77766.0,62972.0,76653.0,90687.0,53378.0,64191.0,57183.0,66303.0,71847.0,78687.0,49118.0,83151.0,52531.0,57811.0,94384.0,71626.0,60894.0,59868.0,64857.0,81843.0,72828.0,88097.0,71853.0,62845.0,85696.0,76542.0,69109.0,69627.0,58554.0,52203.0,75154.0,56242.0,63841.0,69389.0,80134.0,57537.0,63810.0,78427.0,78041.0,52852.0,49476.0,83844.0,67419.0,94871.0,65148.0,64857.0,60474.0,62807.0,75484.0,70379.0,76998.0,60585.0,87679.0,53374.0,71706.0,68487.0,54108.0,49667.0,46772.0,53977.0,73538.0,55759.0,87188.0,69930.0,58597.0,57036.0,71969.0,59235.0,74881.0,65819.0,51983.0,66033.0,63943.0,67445.0,63972.0,55517.0,75283.0,82800.0,60482.0,74268.0,76445.0,53843.0,90226.0,70638.0,71855.0,51250.0,68655.0,52973.0,66664.0,47111.0,59821.0,56386.0,57136.0,82014.0,77766.0,80141.0,72635.0,69016.0,78789.0,58350.0,61787.0,62335.0,86580.0,61064.0,58656.0,80398.0,60230.0,55424.0,92491.0,74881.0,71107.0,75342.0,70044.0,70321.0,58086.0,81795.0,69901.0,80360.0,63342.0,77981.0,67131.0,71853.0,70596.0,85431.0,64590.0,60839.0,75702.0,53977.0,63159.0,46757.0,63207.0,72071.0,52513.0,78394.0,80739.0,54693.0,62972.0,57333.0,84953.0,86836.0,83257.0,72159.0,64260.0,70116.0,69063.0,69109.0,60208.0,69932.0,60200.0,69702.0,70300.0,70643.0,62772.0,67546.0,59292.0,62820.0,67384.0,80573.0,77870.0,52278.0,91249.0,80982.0,55212.0,70617.0,64849.0,62694.0,75903.0,54356.0,70792.0,63211.0,72335.0,96843.0,70053.0,71670.0,72643.0,55686.0,79205.0,63684.0,71964.0,68281.0,71322.0,49912.0,68117.0,55914.0,75330.0,60689.0,61416.0,49767.0,83273.0,76467.0,71128.0,59462.0,67445.0,67046.0,77610.0,69520.0,68487.0,56796.0,87000.0,79244.0,49912.0,81929.0,76068.0,72967.0,82332.0,58275.0,44953.0,72217.0,53230.0,82333.0,65220.0,72309.0,69209.0,60896.0,74859.0,72071.0,91172.0,65706.0,79174.0,81380.0,67716.0,89616.0,82347.0,73803.0,57731.0,73807.0,61014.0,80617.0,75777.0,58554.0,63777.0,44802.0,61223.0],\"y\":[760,690,679,555,650,591,610,523,695,784,479,684,550,457,757,593,480,544,753,566,547,768,722,640,532,505,609,666,693,640,471,571,593,531,573,566,715,533,716,725,592,698,521,752,657,564,505,625,701,754,518,689,756,664,787,637,560,650,778,502,633,764,705,547,766,718,500,472,742,625,550,531,613,634,703,772,630,555,605,781,625,604,456,549,752,667,580,785,680,478,632,707,651,661,736,774,505,686,672,692,729,514,737,694,553,619,589,578,487,539,527,513,619,520,595,757,749,739,529,780,556,791,593,711,724,750,465,740,589,630,539,531,549,771,696,657,555,538,734,783,487,582,547,500,475,668,611,741,661,764,664,694,488,488,743,534,487,736,729,643,573,621,783,666,752,672,704,765,576,752,791,632,713,508,666,741,552,654,520,598,537,479,554,786,560,510,583,602,784,753,759,496,627,696,711,581,546,561,546,607,517,500,536,515,511,517,554,741,735,649,697,551,592,517,752,459,610,661,605,462,617,670,511,504,535,783,500,481,494,579,733,733,672,778,743,720,794,510,754,556,698,510,770,579,544,699,462,625,595,729,676,552,733,792,670,673,458,521,773,609,607,638,703,640,586,582,787,627,691,519,471,750,455,766,742,668,572,750,714,773,499,493,769,623,651,686,531,552,755,617,591,537,571,616,524,589,792,414,500,740,620,564,585,743,786,777,601,643,467,579,702,463,439,680,530,597,777,514,733,519,553,694,566,738,795,760,580,531,736,502,481,692,710,657,672,471,510,626,763,687,680,551,764,793,580,631,467,434,779,690,629,698,775,696,483,678,675,488,496,683,662,718,630,575,674,764,622,762,783,671,737,556,679,619,597,736,464,738,490,626,553,785,695,739,756,540,707,504,775,589,631,488,681,787,638,455,499,584,764,744,693,502,678,521,575,594,516,593,626,622,708,493,580,718,496,557,514,729,483,720,767,720,483,698,687,622,597,760,596,499,594,792,742,488,752,746,705,631,616,696,694,727,479,640,592,446,719,503,764,478,511,693,720,773,617,714,634,680,468,690,474,544,684,605,701,782,529,458,452,584,597,766,677,502,788,595,757,573,523,730,490,603,520,739,778,728,637,783,636,705,454,629,595,658,654,757,735,674,658,747,489,652,542,792,553,761,572,747,723,488,597,556,463,631,651,632,586,697,794,680,640,784,722,457,738,559,774,478],\"z\":[1617,590,1315,1782,972,1196,902,1395,1319,1693,606,1957,1093,1438,612,884,606,1562,1253,863,661,1890,2209,692,1169,1120,910,850,1820,730,660,1135,559,1923,632,1482,2077,1385,877,1021,1381,1706,1293,1835,1318,1581,1282,1270,1240,1804,1198,1135,1245,1103,1753,1588,1117,1009,1102,1690,1390,2126,1531,1112,1148,1101,845,981,1635,957,925,908,930,859,1919,1374,825,1213,1508,401,680,1307,1283,1161,946,1442,1674,1538,1182,507,1443,1188,1277,1670,2153,693,1348,1932,990,1371,1005,1173,1040,915,1485,1073,1474,751,1435,2119,1008,1688,1082,868,1001,971,2059,1289,1743,890,1388,906,973,530,747,895,735,2092,1722,900,663,1816,746,1445,1210,730,943,2089,1727,1895,662,795,1772,1957,1572,1065,1230,1867,2086,819,594,882,981,1237,1825,1587,1375,1477,1005,1307,2252,1724,1174,597,1029,990,1241,2074,689,2114,1717,1443,903,596,1511,1152,1185,965,869,1947,836,606,1335,1338,1099,1574,1757,1006,1226,1869,1364,450,1612,729,1071,1580,1526,1027,1478,860,1808,1957,1576,1616,1482,542,1043,1633,1345,764,1853,1180,727,1062,2114,2018,902,1139,928,1453,1198,1990,976,1650,1228,966,1829,1120,1187,2302,1250,995,475,694,1079,1564,1910,1315,528,724,859,1574,2194,1314,702,1211,1461,1968,2440,968,1250,938,1178,1826,1477,766,2116,1298,1401,2087,981,523,756,937,1156,1104,1722,957,1956,1313,660,684,1060,1459,1833,1020,1026,684,499,1004,606,990,1711,1232,1812,1461,908,1161,1072,758,685,545,2047,789,1215,1529,587,2279,1779,793,825,610,1286,1192,2130,1229,2346,794,802,2302,1305,832,1194,1540,1643,1678,844,1149,1178,1313,1483,1555,861,586,939,1143,971,908,797,1690,545,1371,1930,1319,879,795,1574,1471,1078,1115,1540,1180,819,1159,860,1910,736,2524,1064,1443,1366,747,1396,1048,907,1658,854,1923,1662,733,1513,1086,1128,964,1383,793,677,1106,1174,1269,633,1019,1315,507,892,1410,562,2352,1334,1141,710,1538,1152,1289,1092,734,612,1179,1511,1529,2091,981,1533,1754,1001,1319,708,746,1080,1220,1597,1067,877,2034,964,1327,563,1504,1376,792,1382,882,2231,1101,664,976,1149,968,1165,1338,1250,1921,907,1797,1143,1502,1338,1149,1428,1633,929,587,1662,1024,557,1365,1401,1574,1536,928,1555,656,1049,685,1039,1596,1828,946,2126,507,976,1490,1564,1815,1198,1676,1191,1182,1280,1336,749,901,775,1272,1173,2092,1544,1012,1766,1429,982,895,1464,1870,1655,1305,874,930,1260,1109,639,1665,692,1392,1575,1615,1088,1174,993,1680,1455,1366,1001,961,1216,874,2053,1376,497,2006,615,1021,1573,732,1822,1282,1931,1782,1701,1565,1338,1092,1199,2043,1893,1016,1644,1853,1528,704,849,1147,1435,1438,586,653,1049,1341],\"type\":\"scatter3d\",\"hovertemplate\":\"Income: %{x} \\u003cbr\\u003eSeniority: %{y} \\u003cbr\\u003eSpending: %{z}\"},{\"marker\":{\"line\":{\"width\":1},\"size\":6},\"mode\":\"markers\",\"name\":\"Leaky bucket\",\"x\":[46344.0,26646.0,58293.0,5648.0,59354.0,10979.0,49389.0,23718.0,42429.0,7500.0,27938.0,32474.0,28332.0,26326.0,29440.0,36138.0,50388.0,54178.0,42394.0,23626.0,30096.0,47823.0,34554.0,24594.0,49096.0,50785.0,21918.0,32557.0,19510.0,54348.0,41551.0,35860.0,36921.0,38547.0,49605.0,34176.0,49967.0,60199.0,55375.0,23228.0,43482.0,52332.0,26091.0,33456.0,50447.0,53537.0,52074.0,38853.0,38285.0,51650.0,16248.0,30477.0,28249.0,32303.0,36640.0,31353.0,46854.0,40637.0,29604.0,44794.0,41443.0,52195.0,44551.0,45204.0,34320.0,15033.0,22212.0,23661.0,7500.0,60182.0,22804.0,31686.0,31160.0,29938.0,40737.0,44159.0,22070.0,31788.0,61905.0,29315.0,44319.0,38361.0,16626.0,35246.0,46377.0,39747.0,23976.0,12571.0,22574.0,54198.0,28839.0,40321.0,30833.0,47025.0,27255.0,33996.0,41411.0,27190.0,33181.0,38643.0,46681.0,28442.0,35684.0,29548.0,19986.0,36143.0,43795.0,62499.0,42373.0,55521.0,48006.0,19789.0,37401.0,30096.0,18492.0,48686.0,10404.0,30015.0,51529.0,32011.0,56223.0,18100.0,20130.0,42618.0,55707.0,36230.0,50300.0,50520.0,33183.0,53790.0,37406.0,20518.0,41644.0,38961.0,37760.0,43057.0,14045.0,55563.0,48330.0,48920.0,30630.0,42691.0,50353.0,49154.0,44931.0,57247.0,22944.0,25315.0,24683.0,47850.0,19514.0,27159.0,39548.0,21474.0,15315.0,33039.0,48799.0,52157.0,29298.0,47691.0,38443.0,38593.0,36959.0,51287.0,13260.0,47472.0,54603.0,47821.0,39453.0,26850.0,53863.0,24221.0,33178.0,17459.0,42169.0,42429.0,26877.0,45006.0,22574.0,45837.0,54456.0,36975.0,32218.0,46102.0,46463.0,55282.0,50616.0,61278.0,46734.0,19986.0,21063.0,54690.0,26751.0,41039.0,38946.0,42315.0,13084.0,61923.0,34824.0,45938.0,41335.0,35682.0,50272.0,45160.0,18988.0,44794.0,56962.0,35946.0,45072.0,48767.0,38702.0,17003.0,33697.0,51518.0,38829.0,35523.0,46891.0,40760.0,51124.0,36283.0,20587.0,30467.0,17144.0,43783.0,51267.0,19329.0,49681.0,56850.0,55267.0,26872.0,30772.0,25804.0,22063.0,16529.0,55412.0,25130.0,34026.0,34176.0,49980.0,30843.0,46374.0,38576.0,23228.0,44602.0,49514.0,19485.0,21675.0,42395.0,24762.0,36627.0,51111.0,42243.0,26868.0,37087.0,21846.0,54137.0,57100.0,45684.0,47889.0,45921.0,42607.0,46015.0,34469.0,46107.0,32892.0,39771.0,27922.0,52190.0,46106.0,59041.0,52597.0,40233.0,50183.0,56962.0,35704.0,46779.0,4861.0,33462.0,35340.0,64587.0,34824.0,26091.0,46086.0,19514.0,49187.0,38196.0,34961.0,33564.0,28647.0,32173.0,37334.0,46423.0,37126.0,34728.0,33585.0,28764.0,53312.0,35860.0,32892.0,39722.0,46610.0,26907.0,50014.0,40479.0,24163.0,43776.0,39190.0,57236.0,38508.0,53187.0,30023.0,50870.0,15315.0,54466.0,16269.0,33569.0,36262.0,47025.0,48526.0,46931.0,25930.0,42693.0,49669.0,10979.0,21282.0,33419.0,21255.0,42162.0,57744.0,54197.0,23091.0,46049.0,44375.0,40344.0,48985.0,14421.0,20130.0,47353.0,26954.0,22327.0,44393.0,45894.0,58401.0,62307.0,46891.0,54809.0,51412.0,18351.0,40451.0,42213.0,26228.0,40211.0,33438.0,54730.0,38452.0,41986.0,37395.0,55249.0,44213.0,25707.0,59062.0,1730.0,20427.0,39356.0,35860.0,47139.0,45579.0,37368.0,46149.0,39767.0,15759.0,22804.0,43050.0,42997.0,48918.0,60033.0,34043.0,23148.0,45143.0,59060.0,47009.0,46094.0,40321.0,37235.0,18393.0,24711.0,45503.0,6560.0,27244.0,51948.0,35876.0,40049.0,50127.0,33316.0,17256.0,47025.0,37971.0,41335.0,57338.0,50523.0,56243.0,21355.0,46390.0,54342.0,26907.0,53761.0,22682.0,38887.0,29791.0,39996.0,26759.0,37716.0,43142.0,51315.0,36026.0,24639.0,34578.0,54132.0,43269.0,38741.0,31163.0,34853.0,42523.0,33402.0,36408.0,51876.0,40304.0,46015.0,16531.0,41145.0,23162.0,59892.0,41020.0,19414.0,19107.0,49854.0,35765.0,32952.0,31163.0,51766.0,33039.0,37787.0,37697.0,37401.0,9255.0,31928.0,30390.0,57530.0,37054.0,49681.0,44322.0,27161.0,45203.0,34633.0,45903.0,35860.0,61482.0,45143.0,52569.0,17144.0,36108.0,36663.0,44512.0,27116.0,54072.0,33955.0,31353.0,28359.0,57100.0,51717.0,54549.0,19444.0,36301.0,42731.0,52854.0,46681.0,44078.0,35924.0,24594.0,58494.0,56551.0,22448.0,25358.0,35544.0,43602.0,33996.0,36732.0,37929.0,33228.0,38232.0,23536.0,49413.0,42231.0,38452.0,18358.0,38175.0,54222.0,18746.0,22108.0,44392.0,38513.0,16653.0,46910.0,54984.0,42403.0,55761.0,45576.0,31859.0,41120.0,39763.0,38725.0,21955.0,36802.0,28249.0,47808.0,42664.0,39435.0,42473.0,36075.0,34026.0,48918.0,37697.0,36273.0,44689.0,7144.0,50387.0,32583.0,44635.0,33316.0,25293.0,54111.0,29236.0,48186.0,54809.0,27071.0,4023.0,25008.0,11448.0,32889.0,34738.0,26642.0,44503.0,49638.0,23830.0,30396.0,50616.0,30298.0,44155.0,49160.0,22148.0,29819.0,45688.0,33235.0,31535.0,31878.0,22701.0,61917.0,21059.0,29543.0,34242.0,25410.0,51141.0,29478.0,56551.0,44359.0,48877.0,39062.0,54690.0,4428.0,38236.0,36781.0,23477.0,28420.0,33279.0,46423.0,30368.0,22263.0,28587.0,48195.0,32765.0,23272.0,17649.0,40059.0,29009.0,45057.0,43020.0,53154.0,36927.0,48794.0,38361.0,42192.0,31761.0,34350.0,54591.0,25293.0,22123.0,30828.0,34109.0,53367.0,22390.0,53204.0,34587.0,43018.0,45736.0,27733.0,25176.0,50116.0,33590.0,58692.0,40590.0,20587.0,62637.0,19346.0,35788.0,23539.0,29732.0,41275.0,42769.0,49572.0,17148.0,40590.0,32146.0,41713.0,34176.0,59686.0,47320.0,15253.0,41967.0,38946.0,26067.0,42523.0,53233.0,25224.0,43322.0,37085.0,16185.0,32144.0,45146.0,38054.0,33562.0,24434.0],\"y\":[210,236,258,205,323,135,401,397,235,367,159,146,157,395,419,445,129,256,195,133,135,438,188,298,375,389,324,222,395,118,416,138,433,402,105,145,453,387,352,272,325,402,221,166,166,247,183,134,102,146,147,255,111,210,373,279,187,444,300,118,186,145,399,176,230,171,299,304,282,140,430,121,383,342,300,109,365,198,242,181,170,281,262,171,217,174,281,259,341,291,207,432,445,237,331,388,301,415,274,309,361,222,165,401,324,188,353,299,415,347,117,318,151,135,121,304,153,244,392,408,288,424,201,360,286,352,132,249,222,212,359,139,148,278,419,339,251,182,323,349,250,414,118,335,259,422,285,331,210,305,251,189,187,179,427,390,333,119,392,456,250,386,367,186,407,383,452,349,184,169,140,410,247,380,350,235,411,443,341,435,450,280,231,208,412,295,174,273,348,324,374,331,135,436,345,449,336,435,192,335,282,99,423,189,134,118,358,372,353,276,429,299,384,366,181,366,398,400,290,173,146,199,231,128,340,294,334,195,348,353,206,398,422,217,316,367,425,145,346,131,201,214,251,231,291,375,115,183,236,438,107,297,157,419,347,414,304,306,273,208,321,174,153,236,132,302,147,149,146,150,150,355,101,358,274,449,104,423,97,104,192,221,335,251,266,169,107,102,409,429,220,381,188,431,374,121,421,138,132,222,443,410,255,413,357,154,161,206,428,343,194,107,427,237,400,353,379,387,284,163,359,119,133,135,146,413,256,319,326,184,129,440,195,356,456,229,201,325,149,428,408,219,167,229,398,388,277,340,230,357,377,431,377,415,188,237,155,170,309,259,366,139,194,199,138,212,410,292,309,440,394,430,200,301,175,189,344,228,404,266,368,116,432,245,189,169,374,296,211,382,167,353,128,365,315,331,313,282,158,283,278,410,152,458,410,358,366,216,142,135,239,166,228,223,202,249,176,230,383,188,233,285,164,443,378,354,369,174,108,238,287,336,341,353,408,328,297,307,233,207,390,379,239,151,288,190,397,357,384,334,110,341,195,254,164,138,99,404,182,231,354,162,400,216,434,421,279,342,139,410,215,224,344,348,194,361,107,195,298,296,150,220,439,210,267,388,279,431,254,260,122,344,193,188,318,376,217,128,149,394,249,169,195,133,297,163,129,219,332,426,147,392,110,111,349,200,424,229,299,425,175,239,171,267,301,399,111,358,365,384,405,361,198,388,164,103,244,293,393,146,217,171,168,239,157,169,138,258,349,174,345,252,241,373,104,394,318,270,186,195,399,453,260,150,109,272,193,331,364,379,177,348,284,114,381,331,188,234,256,223,352,326,371,309,307,308,117,124,100,281,393,182,350,425,384,191,365,332,399,348,198,141,337,437,404,420,106,335,181,367,146,217,247,254,218,193,194,357,293,249,367,145,158,255,252,429,341,315,345,334,164,200,202,166,100,425,195,446,156,101,139],\"z\":[27,53,422,49,310,30,65,81,67,31,29,11,65,18,56,151,372,194,32,43,45,72,55,29,187,114,33,80,30,90,279,49,38,22,127,89,306,18,162,121,88,259,89,36,148,93,119,45,10,191,57,66,43,39,65,31,263,38,53,65,482,17,285,114,17,19,69,23,57,22,26,17,64,26,17,275,67,60,231,48,37,137,68,62,90,273,66,53,37,235,32,102,28,20,37,71,139,18,16,49,425,57,30,29,22,19,492,222,163,446,41,78,48,45,10,20,43,57,467,122,156,14,34,192,428,59,270,135,120,542,17,25,31,70,54,266,20,43,32,347,52,358,442,411,96,232,76,54,41,134,69,21,54,91,64,78,331,265,11,21,38,177,62,182,49,75,227,47,55,63,473,55,49,69,30,67,268,266,37,373,404,33,93,16,235,235,67,165,223,22,59,198,11,467,257,270,29,126,23,636,187,57,233,21,16,65,411,11,284,63,109,38,28,449,99,66,183,93,43,29,25,24,47,629,270,60,458,63,405,72,20,55,55,22,63,50,76,89,195,35,446,41,40,292,369,10,45,182,86,16,55,55,14,401,84,203,409,28,67,199,350,46,62,125,46,50,41,77,54,96,578,149,231,411,94,23,6,54,45,108,23,89,343,69,116,44,79,71,94,22,62,92,72,36,122,12,278,49,46,47,467,22,396,15,17,23,133,121,443,267,61,63,64,16,44,63,426,635,135,78,15,57,326,30,46,86,61,145,411,237,48,515,301,218,75,16,34,225,17,24,60,51,96,160,183,174,195,43,49,363,25,87,90,405,72,63,39,130,152,21,71,8,10,23,49,83,183,30,362,485,17,26,76,15,62,198,49,37,311,274,448,44,102,61,50,58,170,373,101,311,129,32,320,131,62,415,30,187,237,91,396,68,222,177,22,325,95,42,20,15,59,188,20,222,61,44,8,42,19,61,38,34,125,70,22,310,57,46,44,13,65,87,217,32,46,380,75,55,38,275,78,106,84,48,22,72,80,92,25,458,92,52,147,15,66,49,299,311,95,47,339,35,32,41,39,270,31,16,311,122,233,54,78,244,116,425,41,34,29,396,138,55,32,67,68,71,47,265,71,122,10,304,37,72,57,153,264,64,31,211,324,69,68,358,42,184,145,48,81,167,45,55,20,43,224,24,102,144,119,76,62,84,76,34,416,525,9,68,131,37,388,99,219,174,35,9,34,14,55,20,42,48,39,43,34,149,28,46,236,49,39,306,70,51,70,24,91,44,63,15,38,157,20,138,45,144,44,198,359,88,63,147,13,16,92,52,21,78,265,46,46,45,414,44,50,223,158,71,54,137,100,98,48,519,37,102,56,22,400,26,45,22,133,437,57,13,66,8,395,258,25,185,22,44,81,38,61,88,54,68,258,66,174,28,274,414,29,54,257,56,125,40,46,141,61,106,54,53,45,51,50],\"type\":\"scatter3d\",\"hovertemplate\":\"Income: %{x} \\u003cbr\\u003eSeniority: %{y} \\u003cbr\\u003eSpending: %{z}\"},{\"marker\":{\"line\":{\"width\":1},\"size\":6},\"mode\":\"markers\",\"name\":\"Stars\",\"x\":[71613.0,62513.0,63033.0,65324.0,84618.0,67353.0,79941.0,65486.0,82582.0,55954.0,70666.0,88194.0,69096.0,81361.0,79593.0,78497.0,87195.0,77298.0,57288.0,90765.0,77376.0,62998.0,73448.0,65104.0,68352.0,59354.0,65747.0,80317.0,157243.0,62551.0,66951.0,78497.0,66835.0,61286.0,69661.0,80067.0,69142.0,75922.0,63693.0,77972.0,83790.0,72460.0,77622.0,79761.0,73455.0,73687.0,80124.0,66313.0,77882.0,65640.0,79946.0,57912.0,58821.0,77457.0,64100.0,83532.0,82623.0,84835.0,71113.0,69759.0,65073.0,62187.0,66426.0,90300.0,74293.0,70777.0,68682.0,65808.0,75865.0,80134.0,92910.0,75433.0,75236.0,67272.0,81246.0,70829.0,60597.0,70165.0,80124.0,66582.0,55842.0,65104.0,55614.0,67911.0,65665.0,81217.0,89120.0,71367.0,80184.0,73454.0,77863.0,72679.0,57954.0,76982.0,84169.0,85620.0,60504.0,81698.0,71499.0,62466.0,64413.0,61794.0,69882.0,59973.0,72906.0,81168.0,162397.0,72298.0,69084.0,65488.0,62466.0,73691.0,76140.0,78710.0,66886.0,98777.0,153924.0,73059.0,58330.0,59304.0,59247.0,77353.0,70337.0,65295.0,68118.0,65777.0,77845.0,69476.0,61209.0,78468.0,78901.0,71427.0,71022.0,90247.0,66375.0,80395.0,75012.0,89694.0,72025.0,70545.0,82224.0,71163.0,63564.0,83443.0,58330.0,75507.0,58512.0,79146.0,78285.0,75127.0,72063.0,78939.0,74250.0,72258.0,71466.0,70421.0,61872.0,82716.0,73170.0,91820.0,65968.0,65685.0,57091.0,56628.0,82504.0,81205.0,65324.0,70123.0,62450.0,61346.0,80812.0,86424.0,68092.0,76630.0,64090.0,78331.0,66825.0,85072.0,86429.0,75114.0,73113.0,84169.0,83033.0,77583.0,74116.0,74293.0,68397.0,79632.0,75127.0,71796.0,55239.0,60554.0,56067.0,57937.0,68274.0,54753.0,92955.0,84219.0,59052.0,83715.0,53103.0,63693.0,80763.0,65352.0,82170.0,75759.0,85683.0,64449.0,75437.0,52845.0,95169.0,59412.0,70924.0,68695.0,79593.0,61180.0,76081.0,77037.0,70924.0,65196.0,65526.0,83528.0,67023.0,66294.0,71691.0,85844.0,71367.0,61825.0,79803.0,83829.0,76045.0,65463.0,66480.0,98777.0,71819.0,70566.0,63998.0,72903.0,63285.0,79410.0,81657.0,66726.0,90638.0,62000.0,78075.0,66636.0,84618.0,77044.0,61559.0,68682.0,61284.0,64722.0,84906.0,76624.0,66000.0,65106.0,69969.0,67433.0,74716.0,68118.0,74190.0,73450.0,83829.0,85485.0,55956.0,78569.0,157733.0,81051.0,65169.0,65695.0,74805.0,77382.0,71604.0,71434.0,90842.0,62061.0,70515.0,69139.0,62159.0,80695.0,59601.0,67267.0,92344.0,75507.0,63915.0,65685.0,67087.0,80589.0,65704.0,92533.0,70844.0,82657.0,70038.0,69401.0,77343.0,73892.0,68695.0,93790.0,64866.0,57957.0,57072.0,79419.0,64014.0,57867.0,65492.0,63206.0,57136.0,78931.0,84219.0,79529.0,82032.0,74004.0,69283.0,67786.0,76800.0,76081.0,70179.0,79865.0,75315.0,90638.0,81574.0,78093.0,82460.0,81361.0,75794.0,60432.0,65526.0,64509.0,55434.0,69139.0,73059.0,69755.0,64140.0,75774.0,58684.0,157146.0,62670.0,50334.0,72066.0,64892.0,63246.0,69084.0,86610.0,70440.0,56534.0,81217.0,49090.0,73705.0,55012.0,64813.0,83512.0,77520.0,90273.0,82571.0,82427.0,79146.0,77437.0,66835.0,62905.0,59481.0,72117.0,65370.0,71232.0,77298.0,82122.0,62535.0,63404.0,75774.0,78416.0,90369.0,79734.0,58582.0,72282.0,62568.0,63967.0,80336.0,68148.0,65735.0,57705.0,82733.0,74290.0,61825.0,70886.0,82326.0,72905.0,86979.0,76532.0,88420.0,61671.0,69719.0,90933.0,113734.0,73395.0,60491.0,92556.0,70932.0,77598.0,67472.0,73356.0,72570.0,83891.0,56939.0,80872.0,61798.0,76842.0,74485.0,64474.0,77226.0,85738.0,94642.0,58116.0,72968.0,91712.0,94472.0,96547.0,67506.0,68805.0,65814.0,96876.0,77027.0,67225.0,60905.0,65308.0,81044.0,55801.0,76320.0,70179.0,70038.0,71866.0,64713.0,79823.0,71322.0,80144.0,67911.0,78128.0,66476.0,69805.0,84906.0,61286.0,156924.0,65487.0,65333.0,78499.0,63516.0,58482.0,62994.0,90000.0,69263.0,60934.0,71965.0,65210.0,76234.0,84117.0,65487.0,55593.0,88325.0,82032.0,58025.0,57642.0,64014.0,56981.0,69245.0],\"y\":[409,390,323,266,316,277,98,145,119,215,302,199,372,221,145,307,149,336,101,253,147,369,236,324,402,163,211,410,217,320,336,307,371,428,144,380,97,299,355,200,323,324,173,365,341,310,100,383,157,217,145,201,357,213,389,373,328,110,291,341,410,196,367,274,153,221,363,127,187,232,163,182,313,287,279,307,276,377,100,215,134,324,311,135,306,442,201,407,217,217,311,381,108,231,423,270,239,332,466,262,429,385,328,388,382,150,488,208,319,113,262,332,144,134,383,229,239,399,283,432,330,292,275,285,351,289,141,369,405,178,382,206,235,158,317,315,252,360,158,123,252,209,248,277,283,155,380,163,341,135,458,296,251,387,182,98,295,333,126,315,145,189,111,197,434,264,266,371,271,363,382,182,292,263,423,254,447,178,317,331,282,423,139,236,278,153,321,179,135,345,447,421,441,230,369,387,411,244,321,243,387,355,415,409,313,344,197,228,329,417,360,168,180,101,145,164,134,356,180,436,176,156,214,201,201,128,407,423,124,361,323,247,126,229,402,363,288,340,333,128,255,265,233,405,182,413,316,342,444,363,357,131,365,133,167,133,403,445,387,351,145,303,361,105,180,227,487,134,263,246,332,270,321,381,432,399,348,250,159,279,436,144,262,155,431,189,291,255,356,289,339,372,344,195,117,325,101,234,251,411,253,104,116,368,251,198,452,344,244,160,182,222,112,301,210,134,440,108,172,233,159,297,306,221,284,209,176,413,364,250,399,367,376,155,110,523,244,437,103,128,410,319,394,361,438,442,442,213,197,275,109,402,294,185,206,163,312,371,389,346,410,429,310,336,415,366,120,155,99,159,98,371,442,180,421,390,399,301,266,389,418,423,355,208,256,331,390,155,123,131,187,129,200,393,167,258,368,371,240,162,106,381,145,315,154,406,347,218,254,234,174,292,352,184,134,275,382,216,424,241,312,303,388,281,377,104,440,344,283,239,187,155,369,135,227,304,256,365,428,401,267,260,315,455,206,214,285,213,260,432,208,240,146,267,409,241,182,312,268,116,252,253],\"z\":[776,716,1102,544,1672,913,984,507,1617,518,1076,1274,653,778,1366,978,1097,969,608,1724,661,463,725,1053,871,459,460,1231,1608,421,1117,978,1033,608,834,1600,535,1295,1150,1101,1615,1047,714,605,2088,1627,1495,770,818,461,1478,916,728,1157,546,1853,940,1190,835,1029,900,636,1377,1738,1127,787,1598,272,1242,1378,1795,1188,1068,733,1379,431,893,926,1495,1288,518,1053,682,976,945,1157,1924,777,1902,1651,1291,1168,493,1062,1919,1600,526,1008,795,889,279,611,1478,382,1151,1193,107,939,1586,963,889,1179,1348,1092,599,2008,6,1095,1064,1048,574,670,576,664,928,1146,1346,1044,957,1004,734,614,1453,1621,948,1380,1027,1472,1677,334,902,960,1215,1497,1064,1440,1171,564,1427,833,758,1507,1158,1525,1230,767,573,1167,726,1497,495,769,577,761,1066,2009,544,1727,995,989,1677,1226,1281,1003,797,1638,858,1423,1449,1253,1001,1919,1761,1149,2052,1127,1416,1113,833,960,779,811,725,683,305,728,1778,1198,491,926,1085,1150,1415,405,1908,2486,1789,805,1493,936,1901,406,1363,1091,1366,704,1033,1123,1363,1155,506,1650,906,967,1192,1958,777,424,868,1862,1323,562,312,2008,1574,757,1168,2013,1103,1370,1097,438,2525,1020,988,1084,1672,1065,530,1598,811,805,1631,899,711,973,1536,992,860,928,641,1804,1862,1383,999,1736,59,1501,1189,656,820,1121,1196,1400,1424,800,1258,227,634,1918,797,251,1899,1440,789,769,794,1428,817,1131,294,2283,1244,690,1134,1507,1091,2349,556,637,1034,1631,444,612,1045,928,642,943,1198,1638,1234,1658,904,1156,641,1033,1034,792,841,2525,1798,1105,974,778,1682,401,506,1722,882,227,1095,894,1750,823,813,1730,825,694,1792,902,772,1586,1603,1572,815,1157,688,1695,660,745,2157,1526,1991,1686,1456,564,1125,1033,622,461,1073,461,917,969,1382,398,902,823,1179,1588,914,763,1331,953,882,1052,1042,395,486,1323,1217,424,960,2257,1515,1702,820,2069,732,801,1685,277,397,1028,1263,909,1735,414,1512,1089,816,561,1336,463,1130,1734,823,1138,1371,2211,443,1958,2217,1691,809,331,283,747,1941,1175,868,392,1211,1208,527,932,1034,1244,715,602,1518,350,1367,976,1264,1013,1038,1631,608,8,1169,798,1334,300,731,312,1479,568,873,1213,731,907,1566,1169,546,1623,1234,470,679,444,1241,843],\"type\":\"scatter3d\",\"hovertemplate\":\"Income: %{x} \\u003cbr\\u003eSeniority: %{y} \\u003cbr\\u003eSpending: %{z}\"},{\"marker\":{\"line\":{\"width\":1},\"size\":6},\"mode\":\"markers\",\"name\":\"High potential\",\"x\":[33454.0,30351.0,7500.0,17323.0,41850.0,37760.0,33812.0,37040.0,2447.0,40689.0,18589.0,53359.0,38360.0,38620.0,40548.0,46610.0,20559.0,21994.0,7500.0,41728.0,35790.0,25721.0,40246.0,29760.0,26304.0,23559.0,38620.0,47916.0,51813.0,50150.0,38557.0,43974.0,36550.0,30753.0,30992.0,9548.0,33762.0,41883.0,23957.0,35688.0,46344.0,30523.0,28718.0,25271.0,45759.0,24882.0,38872.0,51148.0,18890.0,48721.0,46097.0,44377.0,46014.0,30732.0,42011.0,51369.0,37070.0,38590.0,26490.0,30899.0,45989.0,18701.0,15287.0,37717.0,43776.0,38179.0,38097.0,33378.0,24480.0,51369.0,37760.0,30631.0,35416.0,32414.0,29672.0,35388.0,42386.0,27038.0,42670.0,34421.0,40464.0,14849.0,54432.0,29999.0,24072.0,35178.0,22010.0,30675.0,44300.0,30372.0,50737.0,37717.0,51479.0,31615.0,48178.0,38578.0,46098.0,22585.0,30279.0,30822.0,33581.0,27421.0,35688.0,10245.0,38823.0,51012.0,43824.0,15345.0,23442.0,14515.0,31395.0,30507.0,27213.0,30351.0,50437.0,23616.0,46923.0,42387.0,50943.0,7500.0,28691.0,30279.0,23295.0,24027.0,38988.0,42207.0,31880.0,38415.0,41124.0,32233.0,28457.0,46310.0,27203.0,24279.0,50943.0,34935.0,39665.0,44124.0,36443.0,26095.0,25545.0,32880.0,47682.0,65316.0,28567.0,47352.0,43638.0,42710.0,22419.0,43462.0,38200.0,44989.0,45207.0,40689.0,27450.0,39684.0,23910.0,26224.0,31089.0,30081.0,49618.0,21888.0,26150.0,30801.0,18978.0,35791.0,54162.0,30522.0,31632.0,13624.0,34487.0,28769.0,56181.0,45906.0,29103.0,49431.0,26490.0,25965.0,14661.0,18690.0,45068.0,29187.0,36145.0,50611.0,47570.0,26518.0,43185.0,35178.0,25252.0,33249.0,25851.0,7500.0,53593.0,17487.0,34941.0,40662.0,31626.0,48726.0,42720.0,33622.0,6835.0,41452.0,31590.0,20425.0,42564.0,40780.0,16813.0,46524.0,45183.0,46984.0,34838.0,21359.0,22507.0,22419.0,37859.0,48789.0,35441.0,49494.0,45889.0,40049.0,19419.0,15072.0,49166.0,37758.0,7500.0,38683.0,57906.0,43456.0,53172.0,30545.0,42835.0,39922.0,17117.0,35797.0,46231.0,51195.0,31814.0,51390.0,58917.0,35641.0,39858.0,24401.0,25443.0,14906.0,44051.0,42767.0,16927.0,54237.0,41021.0,33471.0,34596.0,44010.0,40706.0,15716.0,24884.0,42021.0,22434.0,36930.0,36130.0,36736.0,30168.0,34053.0,54165.0,32300.0,20180.0,28440.0,17345.0,15038.0,31056.0,28071.0,47703.0,38998.0,8028.0,33168.0,35196.0,44529.0,25959.0,27100.0,42557.0,42000.0,16860.0,22304.0,41014.0,36715.0,38578.0,27590.0,54210.0,22634.0,31605.0,52034.0,46734.0,39552.0,16581.0,36778.0,49678.0,37155.0,26576.0,7500.0,35322.0,23724.0,33444.0,54386.0,28510.0,48070.0,43140.0,15056.0,31497.0,43641.0,15287.0,36317.0,56721.0,42160.0,33629.0,34377.0,8940.0,22518.0,44421.0,38197.0,28427.0,28691.0,27683.0,7500.0,40521.0,55158.0,31454.0,19656.0,38808.0,23748.0,40800.0,37633.0,26997.0,33986.0,57091.0,46831.0,7500.0,44267.0,50200.0,27238.0,46692.0,37774.0,48752.0,39660.0,43263.0,18929.0,24367.0,33249.0,26887.0,50150.0,18227.0,38136.0,53034.0,35791.0,50611.0,48904.0,57420.0,20895.0,44964.0,41658.0,51039.0,60544.0,36864.0,44511.0,36947.0,47352.0,57045.0,36957.0,34412.0,22634.0,18690.0,28164.0,34596.0,31907.0,27100.0,31086.0,60544.0,20491.0,39922.0,21645.0,46053.0,32727.0,43300.0,26290.0,38410.0,28072.0,50725.0,34380.0,34704.0,39898.0,42873.0,53253.0,42014.0,46098.0,20981.0,27242.0,3502.0,28087.0,19740.0,53083.0,46098.0,23331.0,23331.0,51411.0,42386.0,30983.0,37284.0,47175.0,31859.0,27215.0,39922.0,24645.0,47958.0,38998.0,42014.0,38201.0,34935.0,40442.0,34968.0,31497.0,13724.0,48432.0,12393.0,18793.0,50664.0,54414.0,41003.0,22775.0,50002.0,30560.0,39228.0,34213.0,36634.0,50729.0,34916.0,41473.0,20193.0,27573.0,15862.0,49544.0,22554.0,18169.0,24336.0,18222.0,42033.0,41437.0,9722.0,52117.0,41154.0,35196.0,17688.0,42586.0,23529.0,18690.0,37244.0,37292.0,28389.0,44989.0,51569.0,30372.0,16014.0,13533.0,25509.0,51012.0,42586.0,29760.0,28973.0,20194.0,34600.0,46904.0,49094.0,34074.0,28520.0,59385.0,37070.0,18701.0,37758.0,21840.0,22669.0,44911.0,41580.0,47743.0,32313.0,30093.0,22280.0,58217.0,21024.0,54006.0,30538.0,33051.0,52413.0,42081.0,31158.0,24882.0,45759.0,35701.0,57107.0,18929.0,36038.0,20180.0,34230.0,34984.0,54998.0,28320.0,23763.0,34529.0,36065.0,39898.0,46998.0,40887.0,34600.0,40794.0,32632.0,31385.0,24570.0,25509.0,58646.0,53201.0,21994.0,57113.0,51373.0,39791.0,13672.0,56559.0,32644.0,24206.0,22979.0,41638.0,39146.0,34445.0,37284.0,36790.0,27943.0,30261.0,43815.0,29672.0,7500.0,38680.0,37150.0,32871.0,23478.0,42554.0,42000.0,27889.0,27803.0,51651.0,48699.0,54252.0,14796.0,14188.0,20425.0,58646.0,48150.0,25818.0,37509.0,43586.0,30992.0,16005.0,29435.0,36997.0,30560.0,31560.0,48432.0,52914.0,44325.0,26487.0,40851.0,27469.0,8820.0,50501.0,48432.0,18929.0,35893.0,14918.0,41769.0,5305.0,36807.0,28427.0,22775.0,40101.0,7500.0,57967.0,11012.0,26816.0,34421.0,52869.0],\"y\":[514,485,690,724,649,764,700,787,636,565,640,495,491,511,724,705,571,649,694,498,640,501,654,766,468,458,511,681,541,471,654,661,592,450,530,787,454,564,706,773,659,460,448,668,588,755,492,593,693,509,552,729,621,637,557,709,563,507,742,721,712,487,724,680,608,569,719,605,600,709,764,449,478,457,571,576,629,746,525,460,631,459,513,598,536,632,461,691,468,648,511,680,645,567,706,469,777,565,643,477,634,661,773,507,765,534,749,764,649,694,560,572,765,485,717,686,773,705,470,604,457,643,448,482,775,551,703,640,703,776,706,670,789,644,470,470,497,511,608,461,756,669,596,528,474,541,789,675,534,752,666,752,693,565,537,722,708,487,778,590,616,644,572,708,662,516,565,778,447,622,758,655,634,515,768,792,742,757,641,645,506,513,475,730,493,544,542,632,449,591,600,794,788,565,577,568,512,525,528,539,665,577,473,705,640,756,442,547,622,557,623,532,679,534,630,754,597,527,459,674,693,512,478,730,633,730,480,557,516,717,461,597,625,718,677,551,602,756,559,447,618,764,651,651,613,511,601,525,643,722,539,721,625,691,674,764,598,505,609,512,576,754,494,639,591,454,700,613,620,766,493,700,746,721,690,456,597,547,766,632,752,791,530,686,469,529,502,626,681,505,685,655,630,790,609,611,721,766,773,634,700,505,539,629,637,519,667,530,724,500,703,463,787,623,773,712,596,462,562,457,791,670,547,796,455,603,769,682,641,744,698,569,680,483,646,586,549,532,485,761,661,787,682,595,563,591,601,471,695,530,492,516,730,671,466,728,657,694,663,770,782,722,788,541,756,758,598,626,645,518,539,579,547,518,770,617,597,761,594,767,721,630,750,453,598,520,525,599,621,600,778,777,522,692,539,662,559,507,777,760,729,496,629,694,554,706,477,619,597,702,623,700,778,554,470,776,542,667,764,716,669,630,626,619,566,472,474,464,512,757,494,520,507,472,675,558,464,599,700,592,768,642,745,742,732,779,543,690,629,705,635,645,525,534,683,752,599,648,566,573,746,534,705,766,721,656,641,700,743,448,477,524,563,487,730,440,500,568,663,561,600,453,503,686,457,746,733,779,700,585,615,755,588,564,771,595,491,591,647,758,573,628,788,750,552,599,712,516,641,545,793,668,584,746,481,599,649,605,469,555,535,648,626,575,758,598,597,615,554,582,537,739,547,571,794,555,753,574,564,630,632,456,769,696,501,494,747,583,705,481,483,716,752,765,530,781,789,610,464,467,716,635,576,502,590,793,561,473,716,595,719,666,598,431,653,562,472,720,515,580,567,778,460,719],\"z\":[169,46,61,46,96,317,133,316,1730,444,75,257,131,318,120,302,53,22,122,55,72,34,13,165,16,79,318,606,63,410,145,551,577,81,43,29,106,312,68,211,429,13,57,50,68,80,91,315,35,293,241,264,541,185,189,576,433,22,210,33,322,44,31,25,275,90,184,99,102,576,317,70,390,52,25,32,100,107,241,30,630,65,38,160,23,59,33,62,42,44,99,25,494,51,254,73,120,81,37,51,17,324,211,41,114,209,186,47,27,96,64,343,70,46,490,79,369,684,46,36,34,37,20,48,348,265,15,44,506,296,205,309,64,263,46,137,216,397,138,42,210,42,521,260,46,319,201,406,162,240,17,369,215,444,143,81,67,63,79,42,129,213,28,45,37,35,42,326,95,36,103,191,393,486,48,365,210,74,26,60,20,34,172,493,121,57,637,59,18,112,48,71,480,18,97,92,86,242,654,81,137,16,38,57,813,377,50,177,315,41,170,48,570,162,36,680,39,385,46,290,70,53,368,40,15,341,401,393,486,69,595,156,128,68,263,564,83,353,282,178,95,467,32,66,171,131,53,361,64,93,23,662,81,92,19,573,58,297,488,17,279,103,236,39,137,63,58,80,55,313,655,54,178,122,497,691,56,37,270,653,38,18,20,357,73,12,367,96,125,332,330,384,24,77,315,74,27,18,106,75,18,470,91,504,235,88,155,139,31,133,296,140,152,114,101,61,189,40,52,34,351,119,21,418,48,84,246,76,99,38,434,44,496,78,57,310,401,57,397,473,316,299,441,85,24,112,30,410,28,103,447,35,493,371,322,45,41,72,417,289,354,727,146,319,454,152,209,96,60,78,23,449,37,48,289,30,156,65,209,529,180,77,534,47,586,175,40,134,269,436,436,120,73,106,5,112,55,271,120,103,269,18,100,167,23,240,20,102,156,17,407,54,436,268,137,169,221,155,58,424,57,77,561,211,601,15,638,31,20,117,335,496,231,76,82,244,36,404,41,21,31,67,25,32,103,279,69,497,11,252,54,60,55,460,28,369,467,44,38,48,101,209,252,165,269,47,318,253,502,255,43,185,433,44,40,27,173,215,92,275,159,69,13,103,84,581,367,835,450,382,72,80,68,46,416,85,47,137,21,38,455,43,42,162,74,134,377,161,318,434,576,27,193,101,140,415,22,263,393,174,25,484,413,25,115,441,165,839,23,66,37,22,79,25,100,79,467,43,129,41,653,26,176,433,40,264,51,75,57,140,266,28,123,132,43,103,180,94,31,94,424,575,542,69,59,17,35,500,424,85,199,43,521,32,16,52,15,415,53,468,84,22,30,172],\"type\":\"scatter3d\",\"hovertemplate\":\"Income: %{x} \\u003cbr\\u003eSeniority: %{y} \\u003cbr\\u003eSpending: %{z}\"}],                        {\"template\":{\"data\":{\"histogram2dcontour\":[{\"type\":\"histogram2dcontour\",\"colorbar\":{\"outlinewidth\":0,\"ticks\":\"\"},\"colorscale\":[[0.0,\"#0d0887\"],[0.1111111111111111,\"#46039f\"],[0.2222222222222222,\"#7201a8\"],[0.3333333333333333,\"#9c179e\"],[0.4444444444444444,\"#bd3786\"],[0.5555555555555556,\"#d8576b\"],[0.6666666666666666,\"#ed7953\"],[0.7777777777777778,\"#fb9f3a\"],[0.8888888888888888,\"#fdca26\"],[1.0,\"#f0f921\"]]}],\"choropleth\":[{\"type\":\"choropleth\",\"colorbar\":{\"outlinewidth\":0,\"ticks\":\"\"}}],\"histogram2d\":[{\"type\":\"histogram2d\",\"colorbar\":{\"outlinewidth\":0,\"ticks\":\"\"},\"colorscale\":[[0.0,\"#0d0887\"],[0.1111111111111111,\"#46039f\"],[0.2222222222222222,\"#7201a8\"],[0.3333333333333333,\"#9c179e\"],[0.4444444444444444,\"#bd3786\"],[0.5555555555555556,\"#d8576b\"],[0.6666666666666666,\"#ed7953\"],[0.7777777777777778,\"#fb9f3a\"],[0.8888888888888888,\"#fdca26\"],[1.0,\"#f0f921\"]]}],\"heatmap\":[{\"type\":\"heatmap\",\"colorbar\":{\"outlinewidth\":0,\"ticks\":\"\"},\"colorscale\":[[0.0,\"#0d0887\"],[0.1111111111111111,\"#46039f\"],[0.2222222222222222,\"#7201a8\"],[0.3333333333333333,\"#9c179e\"],[0.4444444444444444,\"#bd3786\"],[0.5555555555555556,\"#d8576b\"],[0.6666666666666666,\"#ed7953\"],[0.7777777777777778,\"#fb9f3a\"],[0.8888888888888888,\"#fdca26\"],[1.0,\"#f0f921\"]]}],\"heatmapgl\":[{\"type\":\"heatmapgl\",\"colorbar\":{\"outlinewidth\":0,\"ticks\":\"\"},\"colorscale\":[[0.0,\"#0d0887\"],[0.1111111111111111,\"#46039f\"],[0.2222222222222222,\"#7201a8\"],[0.3333333333333333,\"#9c179e\"],[0.4444444444444444,\"#bd3786\"],[0.5555555555555556,\"#d8576b\"],[0.6666666666666666,\"#ed7953\"],[0.7777777777777778,\"#fb9f3a\"],[0.8888888888888888,\"#fdca26\"],[1.0,\"#f0f921\"]]}],\"contourcarpet\":[{\"type\":\"contourcarpet\",\"colorbar\":{\"outlinewidth\":0,\"ticks\":\"\"}}],\"contour\":[{\"type\":\"contour\",\"colorbar\":{\"outlinewidth\":0,\"ticks\":\"\"},\"colorscale\":[[0.0,\"#0d0887\"],[0.1111111111111111,\"#46039f\"],[0.2222222222222222,\"#7201a8\"],[0.3333333333333333,\"#9c179e\"],[0.4444444444444444,\"#bd3786\"],[0.5555555555555556,\"#d8576b\"],[0.6666666666666666,\"#ed7953\"],[0.7777777777777778,\"#fb9f3a\"],[0.8888888888888888,\"#fdca26\"],[1.0,\"#f0f921\"]]}],\"surface\":[{\"type\":\"surface\",\"colorbar\":{\"outlinewidth\":0,\"ticks\":\"\"},\"colorscale\":[[0.0,\"#0d0887\"],[0.1111111111111111,\"#46039f\"],[0.2222222222222222,\"#7201a8\"],[0.3333333333333333,\"#9c179e\"],[0.4444444444444444,\"#bd3786\"],[0.5555555555555556,\"#d8576b\"],[0.6666666666666666,\"#ed7953\"],[0.7777777777777778,\"#fb9f3a\"],[0.8888888888888888,\"#fdca26\"],[1.0,\"#f0f921\"]]}],\"mesh3d\":[{\"type\":\"mesh3d\",\"colorbar\":{\"outlinewidth\":0,\"ticks\":\"\"}}],\"scatter\":[{\"fillpattern\":{\"fillmode\":\"overlay\",\"size\":10,\"solidity\":0.2},\"type\":\"scatter\"}],\"parcoords\":[{\"type\":\"parcoords\",\"line\":{\"colorbar\":{\"outlinewidth\":0,\"ticks\":\"\"}}}],\"scatterpolargl\":[{\"type\":\"scatterpolargl\",\"marker\":{\"colorbar\":{\"outlinewidth\":0,\"ticks\":\"\"}}}],\"bar\":[{\"error_x\":{\"color\":\"#2a3f5f\"},\"error_y\":{\"color\":\"#2a3f5f\"},\"marker\":{\"line\":{\"color\":\"#E5ECF6\",\"width\":0.5},\"pattern\":{\"fillmode\":\"overlay\",\"size\":10,\"solidity\":0.2}},\"type\":\"bar\"}],\"scattergeo\":[{\"type\":\"scattergeo\",\"marker\":{\"colorbar\":{\"outlinewidth\":0,\"ticks\":\"\"}}}],\"scatterpolar\":[{\"type\":\"scatterpolar\",\"marker\":{\"colorbar\":{\"outlinewidth\":0,\"ticks\":\"\"}}}],\"histogram\":[{\"marker\":{\"pattern\":{\"fillmode\":\"overlay\",\"size\":10,\"solidity\":0.2}},\"type\":\"histogram\"}],\"scattergl\":[{\"type\":\"scattergl\",\"marker\":{\"colorbar\":{\"outlinewidth\":0,\"ticks\":\"\"}}}],\"scatter3d\":[{\"type\":\"scatter3d\",\"line\":{\"colorbar\":{\"outlinewidth\":0,\"ticks\":\"\"}},\"marker\":{\"colorbar\":{\"outlinewidth\":0,\"ticks\":\"\"}}}],\"scattermapbox\":[{\"type\":\"scattermapbox\",\"marker\":{\"colorbar\":{\"outlinewidth\":0,\"ticks\":\"\"}}}],\"scatterternary\":[{\"type\":\"scatterternary\",\"marker\":{\"colorbar\":{\"outlinewidth\":0,\"ticks\":\"\"}}}],\"scattercarpet\":[{\"type\":\"scattercarpet\",\"marker\":{\"colorbar\":{\"outlinewidth\":0,\"ticks\":\"\"}}}],\"carpet\":[{\"aaxis\":{\"endlinecolor\":\"#2a3f5f\",\"gridcolor\":\"white\",\"linecolor\":\"white\",\"minorgridcolor\":\"white\",\"startlinecolor\":\"#2a3f5f\"},\"baxis\":{\"endlinecolor\":\"#2a3f5f\",\"gridcolor\":\"white\",\"linecolor\":\"white\",\"minorgridcolor\":\"white\",\"startlinecolor\":\"#2a3f5f\"},\"type\":\"carpet\"}],\"table\":[{\"cells\":{\"fill\":{\"color\":\"#EBF0F8\"},\"line\":{\"color\":\"white\"}},\"header\":{\"fill\":{\"color\":\"#C8D4E3\"},\"line\":{\"color\":\"white\"}},\"type\":\"table\"}],\"barpolar\":[{\"marker\":{\"line\":{\"color\":\"#E5ECF6\",\"width\":0.5},\"pattern\":{\"fillmode\":\"overlay\",\"size\":10,\"solidity\":0.2}},\"type\":\"barpolar\"}],\"pie\":[{\"automargin\":true,\"type\":\"pie\"}]},\"layout\":{\"autotypenumbers\":\"strict\",\"colorway\":[\"#636efa\",\"#EF553B\",\"#00cc96\",\"#ab63fa\",\"#FFA15A\",\"#19d3f3\",\"#FF6692\",\"#B6E880\",\"#FF97FF\",\"#FECB52\"],\"font\":{\"color\":\"#2a3f5f\"},\"hovermode\":\"closest\",\"hoverlabel\":{\"align\":\"left\"},\"paper_bgcolor\":\"white\",\"plot_bgcolor\":\"#E5ECF6\",\"polar\":{\"bgcolor\":\"#E5ECF6\",\"angularaxis\":{\"gridcolor\":\"white\",\"linecolor\":\"white\",\"ticks\":\"\"},\"radialaxis\":{\"gridcolor\":\"white\",\"linecolor\":\"white\",\"ticks\":\"\"}},\"ternary\":{\"bgcolor\":\"#E5ECF6\",\"aaxis\":{\"gridcolor\":\"white\",\"linecolor\":\"white\",\"ticks\":\"\"},\"baxis\":{\"gridcolor\":\"white\",\"linecolor\":\"white\",\"ticks\":\"\"},\"caxis\":{\"gridcolor\":\"white\",\"linecolor\":\"white\",\"ticks\":\"\"}},\"coloraxis\":{\"colorbar\":{\"outlinewidth\":0,\"ticks\":\"\"}},\"colorscale\":{\"sequential\":[[0.0,\"#0d0887\"],[0.1111111111111111,\"#46039f\"],[0.2222222222222222,\"#7201a8\"],[0.3333333333333333,\"#9c179e\"],[0.4444444444444444,\"#bd3786\"],[0.5555555555555556,\"#d8576b\"],[0.6666666666666666,\"#ed7953\"],[0.7777777777777778,\"#fb9f3a\"],[0.8888888888888888,\"#fdca26\"],[1.0,\"#f0f921\"]],\"sequentialminus\":[[0.0,\"#0d0887\"],[0.1111111111111111,\"#46039f\"],[0.2222222222222222,\"#7201a8\"],[0.3333333333333333,\"#9c179e\"],[0.4444444444444444,\"#bd3786\"],[0.5555555555555556,\"#d8576b\"],[0.6666666666666666,\"#ed7953\"],[0.7777777777777778,\"#fb9f3a\"],[0.8888888888888888,\"#fdca26\"],[1.0,\"#f0f921\"]],\"diverging\":[[0,\"#8e0152\"],[0.1,\"#c51b7d\"],[0.2,\"#de77ae\"],[0.3,\"#f1b6da\"],[0.4,\"#fde0ef\"],[0.5,\"#f7f7f7\"],[0.6,\"#e6f5d0\"],[0.7,\"#b8e186\"],[0.8,\"#7fbc41\"],[0.9,\"#4d9221\"],[1,\"#276419\"]]},\"xaxis\":{\"gridcolor\":\"white\",\"linecolor\":\"white\",\"ticks\":\"\",\"title\":{\"standoff\":15},\"zerolinecolor\":\"white\",\"automargin\":true,\"zerolinewidth\":2},\"yaxis\":{\"gridcolor\":\"white\",\"linecolor\":\"white\",\"ticks\":\"\",\"title\":{\"standoff\":15},\"zerolinecolor\":\"white\",\"automargin\":true,\"zerolinewidth\":2},\"scene\":{\"xaxis\":{\"backgroundcolor\":\"#E5ECF6\",\"gridcolor\":\"white\",\"linecolor\":\"white\",\"showbackground\":true,\"ticks\":\"\",\"zerolinecolor\":\"white\",\"gridwidth\":2},\"yaxis\":{\"backgroundcolor\":\"#E5ECF6\",\"gridcolor\":\"white\",\"linecolor\":\"white\",\"showbackground\":true,\"ticks\":\"\",\"zerolinecolor\":\"white\",\"gridwidth\":2},\"zaxis\":{\"backgroundcolor\":\"#E5ECF6\",\"gridcolor\":\"white\",\"linecolor\":\"white\",\"showbackground\":true,\"ticks\":\"\",\"zerolinecolor\":\"white\",\"gridwidth\":2}},\"shapedefaults\":{\"line\":{\"color\":\"#2a3f5f\"}},\"annotationdefaults\":{\"arrowcolor\":\"#2a3f5f\",\"arrowhead\":0,\"arrowwidth\":1},\"geo\":{\"bgcolor\":\"white\",\"landcolor\":\"#E5ECF6\",\"subunitcolor\":\"white\",\"showland\":true,\"showlakes\":true,\"lakecolor\":\"white\"},\"title\":{\"x\":0.05},\"mapbox\":{\"style\":\"light\"}}},\"scene\":{\"xaxis\":{\"title\":{\"text\":\"Income\",\"font\":{\"color\":\"black\"}}},\"yaxis\":{\"title\":{\"text\":\"Seniority\",\"font\":{\"color\":\"black\"}}},\"zaxis\":{\"title\":{\"text\":\"Spending\",\"font\":{\"color\":\"black\"}}}},\"font\":{\"family\":\"Gilroy\",\"color\":\"black\",\"size\":12},\"width\":800,\"height\":800,\"autosize\":true,\"showlegend\":true},                        {\"responsive\": true}                    ).then(function(){\n",
       "                            \n",
       "var gd = document.getElementById('fbd4a77e-9267-44c9-aeb6-b7f0f77a143a');\n",
       "var x = new MutationObserver(function (mutations, observer) {{\n",
       "        var display = window.getComputedStyle(gd).display;\n",
       "        if (!display || display === 'none') {{\n",
       "            console.log([gd, 'removed!']);\n",
       "            Plotly.purge(gd);\n",
       "            observer.disconnect();\n",
       "        }}\n",
       "}});\n",
       "\n",
       "// Listen for the removal of the full notebook cells\n",
       "var notebookContainer = gd.closest('#notebook-container');\n",
       "if (notebookContainer) {{\n",
       "    x.observe(notebookContainer, {childList: true});\n",
       "}}\n",
       "\n",
       "// Listen for the clearing of the current output cell\n",
       "var outputEl = gd.closest('.output');\n",
       "if (outputEl) {{\n",
       "    x.observe(outputEl, {childList: true});\n",
       "}}\n",
       "\n",
       "                        })                };                });            </script>        </div>"
      ]
     },
     "metadata": {},
     "output_type": "display_data"
    }
   ],
   "source": [
    "PLOT = go.Figure()\n",
    "for C in list(data.Cluster.unique()):\n",
    "    PLOT.add_trace(go.Scatter3d(\n",
    "        x=data[data.Cluster == C]['Income'],\n",
    "        y=data[data.Cluster == C]['Seniority'],\n",
    "        z=data[data.Cluster == C]['Spending'],\n",
    "        mode='markers',\n",
    "        marker_size=6,\n",
    "        marker_line_width=1,\n",
    "        name=str(C)\n",
    "    ))\n",
    "PLOT.update_traces(hovertemplate='Income: %{x} <br>Seniority: %{y} <br>Spending: %{z}')\n",
    "PLOT.update_layout(\n",
    "    width=800, height=800, autosize=True, showlegend=True,\n",
    "    scene=dict(\n",
    "        xaxis=dict(title='Income', titlefont_color='black'),\n",
    "        yaxis=dict(title='Seniority', titlefont_color='black'),\n",
    "        zaxis=dict(title='Spending', titlefont_color='black')\n",
    "    ),\n",
    "    font=dict(family='Gilroy', color='black', size=12)\n",
    ")\n",
    "PLOT.show()"
   ]
  },
  {
   "cell_type": "markdown",
   "id": "ab42676e",
   "metadata": {
    "papermill": {
     "duration": 0.012263,
     "end_time": "2024-07-07T16:34:56.673040",
     "exception": false,
     "start_time": "2024-07-07T16:34:56.660777",
     "status": "completed"
    },
    "tags": []
   },
   "source": [
    "# Data Preparation for Apriori Algorithm"
   ]
  },
  {
   "cell_type": "code",
   "execution_count": 16,
   "id": "3cd23352",
   "metadata": {
    "execution": {
     "iopub.execute_input": "2024-07-07T16:34:56.695480Z",
     "iopub.status.busy": "2024-07-07T16:34:56.695201Z",
     "iopub.status.idle": "2024-07-07T16:34:56.711534Z",
     "shell.execute_reply": "2024-07-07T16:34:56.710776Z"
    },
    "papermill": {
     "duration": 0.029914,
     "end_time": "2024-07-07T16:34:56.713696",
     "exception": false,
     "start_time": "2024-07-07T16:34:56.683782",
     "status": "completed"
    },
    "tags": []
   },
   "outputs": [],
   "source": [
    "# Age segment\n",
    "cut_labels_Age = ['Young', 'Adult', 'Mature', 'Senior']\n",
    "cut_bins = [0, 30, 45, 65, 120]\n",
    "data['Age_group'] = pd.cut(data['Age'], bins=cut_bins, labels=cut_labels_Age)\n",
    "\n",
    "# Income segment\n",
    "cut_labels_Income = ['Low income', 'Low to medium income', 'Medium to high income', 'High income']\n",
    "data['Income_group'] = pd.qcut(data['Income'], q=4, labels=cut_labels_Income)\n",
    "\n",
    "# Seniority segment\n",
    "cut_labels_Seniority = ['New customers', 'Discovering customers', 'Experienced customers', 'Old customers']\n",
    "data['Seniority_group'] = pd.qcut(data['Seniority'], q=4, labels=cut_labels_Seniority)\n",
    "\n",
    "# Drop original columns\n",
    "data = data.drop(columns=['Age', 'Income', 'Seniority'])"
   ]
  },
  {
   "cell_type": "markdown",
   "id": "c1ac93cf",
   "metadata": {
    "papermill": {
     "duration": 0.012389,
     "end_time": "2024-07-07T16:34:56.737381",
     "exception": false,
     "start_time": "2024-07-07T16:34:56.724992",
     "status": "completed"
    },
    "tags": []
   },
   "source": [
    "# Defining Segments Based on Product Consumption"
   ]
  },
  {
   "cell_type": "code",
   "execution_count": 17,
   "id": "43012862",
   "metadata": {
    "execution": {
     "iopub.execute_input": "2024-07-07T16:34:56.762082Z",
     "iopub.status.busy": "2024-07-07T16:34:56.761480Z",
     "iopub.status.idle": "2024-07-07T16:34:56.804344Z",
     "shell.execute_reply": "2024-07-07T16:34:56.803140Z"
    },
    "papermill": {
     "duration": 0.057112,
     "end_time": "2024-07-07T16:34:56.806624",
     "exception": false,
     "start_time": "2024-07-07T16:34:56.749512",
     "status": "completed"
    },
    "tags": []
   },
   "outputs": [
    {
     "name": "stdout",
     "output_type": "stream",
     "text": [
      "         Education Marital_Status  Spending  Has_child    Children  \\\n",
      "0     Postgraduate          Alone      1617   No child    No child   \n",
      "1     Postgraduate          Alone        27  Has child  2 children   \n",
      "2     Postgraduate      In couple       776   No child    No child   \n",
      "3     Postgraduate      In couple        53  Has child     1 child   \n",
      "4     Postgraduate      In couple       422  Has child     1 child   \n",
      "...            ...            ...       ...        ...         ...   \n",
      "2235  Postgraduate      In couple      1341  Has child     1 child   \n",
      "2236  Postgraduate      In couple       444  Has child  3 children   \n",
      "2237  Postgraduate          Alone      1241   No child    No child   \n",
      "2238  Postgraduate      In couple       843  Has child     1 child   \n",
      "2239  Postgraduate      In couple       172  Has child  2 children   \n",
      "\n",
      "             Cluster Age_group           Income_group        Seniority_group  \\\n",
      "0     Need attention    Mature  Medium to high income          Old customers   \n",
      "1       Leaky bucket    Mature   Low to medium income          New customers   \n",
      "2              Stars    Mature            High income  Discovering customers   \n",
      "3       Leaky bucket     Young             Low income          New customers   \n",
      "4       Leaky bucket     Adult  Medium to high income          New customers   \n",
      "...              ...       ...                    ...                    ...   \n",
      "2235  Need attention    Mature  Medium to high income  Experienced customers   \n",
      "2236           Stars    Senior  Medium to high income          New customers   \n",
      "2237           Stars     Adult  Medium to high income          New customers   \n",
      "2238           Stars    Mature            High income          New customers   \n",
      "2239  High potential    Mature  Medium to high income          Old customers   \n",
      "\n",
      "          Wines_segment     Fruits_segment       Meat_segment  \\\n",
      "0      Biggest consumer   Biggest consumer   Biggest consumer   \n",
      "1          Low consumer       Low consumer       Low consumer   \n",
      "2     Frequent consumer   Biggest consumer  Frequent consumer   \n",
      "3          Low consumer       Low consumer  Frequent consumer   \n",
      "4     Frequent consumer  Frequent consumer  Frequent consumer   \n",
      "...                 ...                ...                ...   \n",
      "2235   Biggest consumer  Frequent consumer  Frequent consumer   \n",
      "2236  Frequent consumer       Not consumer  Frequent consumer   \n",
      "2237   Biggest consumer   Biggest consumer  Frequent consumer   \n",
      "2238  Frequent consumer  Frequent consumer  Frequent consumer   \n",
      "2239  Frequent consumer       Low consumer  Frequent consumer   \n",
      "\n",
      "           Fish_segment     Sweets_segment       Gold_segment  \n",
      "0      Biggest consumer   Biggest consumer   Biggest consumer  \n",
      "1          Low consumer       Low consumer       Low consumer  \n",
      "2      Biggest consumer  Frequent consumer  Frequent consumer  \n",
      "3     Frequent consumer       Low consumer       Low consumer  \n",
      "4     Frequent consumer  Frequent consumer  Frequent consumer  \n",
      "...                 ...                ...                ...  \n",
      "2235  Frequent consumer   Biggest consumer   Biggest consumer  \n",
      "2236       Not consumer       Not consumer       Low consumer  \n",
      "2237  Frequent consumer  Frequent consumer  Frequent consumer  \n",
      "2238   Biggest consumer  Frequent consumer   Biggest consumer  \n",
      "2239       Low consumer       Low consumer  Frequent consumer  \n",
      "\n",
      "[2215 rows x 15 columns]\n"
     ]
    }
   ],
   "source": [
    "cut_labels = ['Low consumer', 'Frequent consumer', 'Biggest consumer']\n",
    "\n",
    "# Apply qcut and categorize\n",
    "data['Wines_segment'] = pd.qcut(data['Wines'][data['Wines'] > 0], q=[0, .25, .75, 1], labels=cut_labels).astype('object')\n",
    "data['Fruits_segment'] = pd.qcut(data['Fruits'][data['Fruits'] > 0], q=[0, .25, .75, 1], labels=cut_labels).astype('object')\n",
    "data['Meat_segment'] = pd.qcut(data['Meat'][data['Meat'] > 0], q=[0, .25, .75, 1], labels=cut_labels).astype('object')\n",
    "data['Fish_segment'] = pd.qcut(data['Fish'][data['Fish'] > 0], q=[0, .25, .75, 1], labels=cut_labels).astype('object')\n",
    "data['Sweets_segment'] = pd.qcut(data['Sweets'][data['Sweets'] > 0], q=[0, .25, .75, 1], labels=cut_labels).astype('object')\n",
    "data['Gold_segment'] = pd.qcut(data['Gold'][data['Gold'] > 0], q=[0, .25, .75, 1], labels=cut_labels).astype('object')\n",
    "\n",
    "# Fill NaN values with 'Not consumer' where applicable\n",
    "data['Wines_segment'].fillna('Not consumer', inplace=True)\n",
    "data['Fruits_segment'].fillna('Not consumer', inplace=True)\n",
    "data['Meat_segment'].fillna('Not consumer', inplace=True)\n",
    "data['Fish_segment'].fillna('Not consumer', inplace=True)\n",
    "data['Sweets_segment'].fillna('Not consumer', inplace=True)\n",
    "data['Gold_segment'].fillna('Not consumer', inplace=True)\n",
    "\n",
    "# Drop original product columns\n",
    "data.drop(columns=['Wines', 'Fruits', 'Meat', 'Fish', 'Sweets', 'Gold'], inplace=True)\n",
    "\n",
    "print(data)"
   ]
  },
  {
   "cell_type": "markdown",
   "id": "d35b54b6",
   "metadata": {
    "papermill": {
     "duration": 0.01225,
     "end_time": "2024-07-07T16:34:56.831273",
     "exception": false,
     "start_time": "2024-07-07T16:34:56.819023",
     "status": "completed"
    },
    "tags": []
   },
   "source": [
    "# Apriori Algorithm"
   ]
  },
  {
   "cell_type": "code",
   "execution_count": 18,
   "id": "d2cc628b",
   "metadata": {
    "execution": {
     "iopub.execute_input": "2024-07-07T16:34:56.853632Z",
     "iopub.status.busy": "2024-07-07T16:34:56.853358Z",
     "iopub.status.idle": "2024-07-07T16:37:38.553433Z",
     "shell.execute_reply": "2024-07-07T16:37:38.552331Z"
    },
    "papermill": {
     "duration": 161.726516,
     "end_time": "2024-07-07T16:37:38.568157",
     "exception": false,
     "start_time": "2024-07-07T16:34:56.841641",
     "status": "completed"
    },
    "tags": []
   },
   "outputs": [
    {
     "name": "stdout",
     "output_type": "stream",
     "text": [
      "        antecedents       consequents  antecedent support  consequent support  \\\n",
      "0       (Education)  (Marital_Status)                 1.0                 1.0   \n",
      "1  (Marital_Status)       (Education)                 1.0                 1.0   \n",
      "2        (Spending)       (Education)                 1.0                 1.0   \n",
      "3       (Education)        (Spending)                 1.0                 1.0   \n",
      "4       (Education)       (Has_child)                 1.0                 1.0   \n",
      "\n",
      "   support  confidence  lift  leverage  conviction  zhangs_metric  \n",
      "0      1.0         1.0   1.0       0.0         inf            0.0  \n",
      "1      1.0         1.0   1.0       0.0         inf            0.0  \n",
      "2      1.0         1.0   1.0       0.0         inf            0.0  \n",
      "3      1.0         1.0   1.0       0.0         inf            0.0  \n",
      "4      1.0         1.0   1.0       0.0         inf            0.0  \n"
     ]
    }
   ],
   "source": [
    "# Fill NaN values appropriately for categorical columns\n",
    "for column in data.columns:\n",
    "    if pd.api.types.is_categorical_dtype(data[column]):\n",
    "        data[column] = data[column].cat.add_categories('Unknown')  # Adding 'Unknown' as a new category\n",
    "        data[column].fillna('Unknown', inplace=True)\n",
    "    elif data[column].dtype == 'object':\n",
    "        data[column].fillna('Unknown', inplace=True)\n",
    "    else:\n",
    "        data[column].fillna(0, inplace=True)  # For numerical columns\n",
    "\n",
    "# Convert to boolean if necessary\n",
    "data = data.astype(bool)\n",
    "\n",
    "# Apply Apriori algorithm\n",
    "data = data.replace({True: 1, False: 0})\n",
    "frequent_itemsets = apriori(data, min_support=0.1, use_colnames=True)\n",
    "rules = association_rules(frequent_itemsets, metric='lift', min_threshold=1)\n",
    "print(rules.head())"
   ]
  }
 ],
 "metadata": {
  "kaggle": {
   "accelerator": "nvidiaTeslaT4",
   "dataSources": [
    {
     "datasetId": 1546318,
     "sourceId": 2549419,
     "sourceType": "datasetVersion"
    }
   ],
   "dockerImageVersionId": 30732,
   "isGpuEnabled": true,
   "isInternetEnabled": true,
   "language": "python",
   "sourceType": "notebook"
  },
  "kernelspec": {
   "display_name": "Python 3",
   "language": "python",
   "name": "python3"
  },
  "language_info": {
   "codemirror_mode": {
    "name": "ipython",
    "version": 3
   },
   "file_extension": ".py",
   "mimetype": "text/x-python",
   "name": "python",
   "nbconvert_exporter": "python",
   "pygments_lexer": "ipython3",
   "version": "3.10.13"
  },
  "papermill": {
   "default_parameters": {},
   "duration": 173.370069,
   "end_time": "2024-07-07T16:37:42.203318",
   "environment_variables": {},
   "exception": null,
   "input_path": "__notebook__.ipynb",
   "output_path": "__notebook__.ipynb",
   "parameters": {},
   "start_time": "2024-07-07T16:34:48.833249",
   "version": "2.5.0"
  }
 },
 "nbformat": 4,
 "nbformat_minor": 5
}
